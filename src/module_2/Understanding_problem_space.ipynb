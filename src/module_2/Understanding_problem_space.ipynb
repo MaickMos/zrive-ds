{
 "cells": [
  {
   "cell_type": "markdown",
   "metadata": {},
   "source": [
    "## Get the data"
   ]
  },
  {
   "cell_type": "code",
   "execution_count": 1,
   "metadata": {},
   "outputs": [],
   "source": [
    "import pandas as pd\n",
    "import matplotlib.pyplot as plt\n",
    "from pathlib import Path\n",
    "import json"
   ]
  },
  {
   "cell_type": "code",
   "execution_count": 15,
   "metadata": {},
   "outputs": [],
   "source": [
    "try:\n",
    "    # for pyhton file .py\n",
    "    PATH = Path(__file__).resolve().parent.parent\n",
    "except NameError:\n",
    "    # For Jupyter Notebook\n",
    "    PATH = Path().resolve().parent.parent\n",
    "\n",
    "with open(PATH / \"config.json\", \"r\") as f:\n",
    "    VARIABLES = json.load(f)\n",
    "\n",
    "# path of the folder with .parquet\n",
    "folder_path = Path(VARIABLES[\"file_path_sampled_datasets\"])"
   ]
  },
  {
   "cell_type": "code",
   "execution_count": 16,
   "metadata": {},
   "outputs": [
    {
     "name": "stdout",
     "output_type": "stream",
     "text": [
      "DataFrame: abandoned_carts\n",
      "DataFrame: inventory\n",
      "DataFrame: orders\n",
      "DataFrame: regulars\n",
      "DataFrame: users\n"
     ]
    }
   ],
   "source": [
    "for file_path in folder_path.glob(\"*.parquet\"):\n",
    "    # create the name without the extension\n",
    "    file_name = file_path.stem\n",
    "    # sampled_datasets[file_name] = pd.read_parquet(file_path)\n",
    "    print(f\"DataFrame: {file_name}\")"
   ]
  },
  {
   "cell_type": "code",
   "execution_count": 18,
   "metadata": {},
   "outputs": [],
   "source": [
    "abandoned_carts = pd.read_parquet(f\"{folder_path}/abandoned_carts.parquet\")\n",
    "inventory = pd.read_parquet(f\"{folder_path}/inventory.parquet\")\n",
    "orders = pd.read_parquet(f\"{folder_path}/orders.parquet\")\n",
    "regulars = pd.read_parquet(f\"{folder_path}/regulars.parquet\")\n",
    "users = pd.read_parquet(f\"{folder_path}/users.parquet\")"
   ]
  },
  {
   "cell_type": "markdown",
   "metadata": {},
   "source": [
    "### Function for initial check"
   ]
  },
  {
   "cell_type": "code",
   "execution_count": 5,
   "metadata": {},
   "outputs": [],
   "source": [
    "def print_initial_data_dataframe_column(column: pd.Series) -> None:\n",
    "    try:\n",
    "        is_null = column.isnull()\n",
    "        duplicated = column.duplicated()\n",
    "        column_types = column.apply(type).unique()\n",
    "\n",
    "        print(f\"///{column.name}///\")\n",
    "        print(column.info())\n",
    "        print(\"/////\")\n",
    "\n",
    "        print(f\"Total values: {column.count()}\")\n",
    "        print(\n",
    "            f\"Number of null values: {is_null.sum()} is the {is_null.mean() * 100 :.2f}% of data\"\n",
    "        )\n",
    "        print(\n",
    "            f\"Duplicates Values: {duplicated.sum()} is the {duplicated.mean() * 100 :.2f}% of data\"\n",
    "        )\n",
    "        print(f\"Number of types: {len(column_types)} types: {column_types}\")\n",
    "        if len(column_types) == 1:\n",
    "\n",
    "            if column_types == float or column_types == int:\n",
    "                print(f\"The mean: {column.mean()}\")\n",
    "                print(f\"The standard deviation: {column.std()}\")\n",
    "                print(f\"The min: {column.min()} The max: {column.max()} \")\n",
    "\n",
    "        print(f\"Number of values uniques: {len(column.unique())}\")\n",
    "        if len(column.unique()) < column.count() * 0.50:\n",
    "            print(f\"The unique values : {column.unique() :.2f} \")\n",
    "        print(\"\\n\")\n",
    "    except:\n",
    "        print(\"Error\")"
   ]
  },
  {
   "cell_type": "markdown",
   "metadata": {},
   "source": [
    "## Checks initial to Tables"
   ]
  },
  {
   "cell_type": "markdown",
   "metadata": {},
   "source": [
    "### User"
   ]
  },
  {
   "cell_type": "markdown",
   "metadata": {},
   "source": [
    "users.parquet: Information about users.\n",
    "user_id : Nothing - No changes   \n",
    "user_segment: Two values, Top Up and Proposition, May be the categorization of pattern of shopping - No changes  \n",
    "user_nuts1: Values of regions, there are 51 values empty - No changes  \n",
    "*first_ordered_at: Change the type for pandas Timestamp  \n",
    "*customer_cohort_month: Change the type for pandas Timestamp \n",
    "\n",
    "Only 325 lines have the next data, might be a survey."
   ]
  },
  {
   "cell_type": "markdown",
   "metadata": {},
   "source": [
    "#### Checks"
   ]
  },
  {
   "cell_type": "code",
   "execution_count": 10,
   "metadata": {},
   "outputs": [
    {
     "name": "stdout",
     "output_type": "stream",
     "text": [
      "<class 'pandas.core.frame.DataFrame'>\n",
      "Index: 4983 entries, 2160 to 3360\n",
      "Data columns (total 10 columns):\n",
      " #   Column                 Non-Null Count  Dtype  \n",
      "---  ------                 --------------  -----  \n",
      " 0   user_id                4983 non-null   object \n",
      " 1   user_segment           4983 non-null   object \n",
      " 2   user_nuts1             4932 non-null   object \n",
      " 3   first_ordered_at       4983 non-null   object \n",
      " 4   customer_cohort_month  4983 non-null   object \n",
      " 5   count_people           325 non-null    float64\n",
      " 6   count_adults           325 non-null    float64\n",
      " 7   count_children         325 non-null    float64\n",
      " 8   count_babies           325 non-null    float64\n",
      " 9   count_pets             325 non-null    float64\n",
      "dtypes: float64(5), object(5)\n",
      "memory usage: 428.2+ KB\n"
     ]
    }
   ],
   "source": [
    "users.info()"
   ]
  },
  {
   "cell_type": "code",
   "execution_count": 11,
   "metadata": {},
   "outputs": [
    {
     "name": "stdout",
     "output_type": "stream",
     "text": [
      "///user_id///\n",
      "<class 'pandas.core.series.Series'>\n",
      "Index: 4983 entries, 2160 to 3360\n",
      "Series name: user_id\n",
      "Non-Null Count  Dtype \n",
      "--------------  ----- \n",
      "4983 non-null   object\n",
      "dtypes: object(1)\n",
      "memory usage: 77.9+ KB\n",
      "None\n",
      "/////\n",
      "Total values: 4983\n",
      "Number of null values: 0 is the 0.00% of data\n",
      "Duplicates Values: 0 is the 0.00% of data\n",
      "Number of types: 1 types: [<class 'str'>]\n",
      "Number of values uniques: 4983\n",
      "\n",
      "\n",
      "///user_segment///\n",
      "<class 'pandas.core.series.Series'>\n",
      "Index: 4983 entries, 2160 to 3360\n",
      "Series name: user_segment\n",
      "Non-Null Count  Dtype \n",
      "--------------  ----- \n",
      "4983 non-null   object\n",
      "dtypes: object(1)\n",
      "memory usage: 77.9+ KB\n",
      "None\n",
      "/////\n",
      "Total values: 4983\n",
      "Number of null values: 0 is the 0.00% of data\n",
      "Duplicates Values: 4981 is the 99.96% of data\n",
      "Number of types: 1 types: [<class 'str'>]\n",
      "Number of values uniques: 2\n",
      "Error\n",
      "///user_nuts1///\n",
      "<class 'pandas.core.series.Series'>\n",
      "Index: 4983 entries, 2160 to 3360\n",
      "Series name: user_nuts1\n",
      "Non-Null Count  Dtype \n",
      "--------------  ----- \n",
      "4932 non-null   object\n",
      "dtypes: object(1)\n",
      "memory usage: 77.9+ KB\n",
      "None\n",
      "/////\n",
      "Total values: 4932\n",
      "Number of null values: 51 is the 1.02% of data\n",
      "Duplicates Values: 4970 is the 99.74% of data\n",
      "Number of types: 2 types: [<class 'str'> <class 'NoneType'>]\n",
      "Number of values uniques: 13\n",
      "Error\n",
      "///first_ordered_at///\n",
      "<class 'pandas.core.series.Series'>\n",
      "Index: 4983 entries, 2160 to 3360\n",
      "Series name: first_ordered_at\n",
      "Non-Null Count  Dtype \n",
      "--------------  ----- \n",
      "4983 non-null   object\n",
      "dtypes: object(1)\n",
      "memory usage: 77.9+ KB\n",
      "None\n",
      "/////\n",
      "Total values: 4983\n",
      "Number of null values: 0 is the 0.00% of data\n",
      "Duplicates Values: 1 is the 0.02% of data\n",
      "Number of types: 1 types: [<class 'str'>]\n",
      "Number of values uniques: 4982\n",
      "\n",
      "\n",
      "///customer_cohort_month///\n",
      "<class 'pandas.core.series.Series'>\n",
      "Index: 4983 entries, 2160 to 3360\n",
      "Series name: customer_cohort_month\n",
      "Non-Null Count  Dtype \n",
      "--------------  ----- \n",
      "4983 non-null   object\n",
      "dtypes: object(1)\n",
      "memory usage: 77.9+ KB\n",
      "None\n",
      "/////\n",
      "Total values: 4983\n",
      "Number of null values: 0 is the 0.00% of data\n",
      "Duplicates Values: 4959 is the 99.52% of data\n",
      "Number of types: 1 types: [<class 'str'>]\n",
      "Number of values uniques: 24\n",
      "Error\n",
      "///count_people///\n",
      "<class 'pandas.core.series.Series'>\n",
      "Index: 4983 entries, 2160 to 3360\n",
      "Series name: count_people\n",
      "Non-Null Count  Dtype  \n",
      "--------------  -----  \n",
      "325 non-null    float64\n",
      "dtypes: float64(1)\n",
      "memory usage: 77.9 KB\n",
      "None\n",
      "/////\n",
      "Total values: 325\n",
      "Number of null values: 4658 is the 93.48% of data\n",
      "Duplicates Values: 4973 is the 99.80% of data\n",
      "Number of types: 1 types: [<class 'float'>]\n",
      "The mean: 2.787692307692308\n",
      "The standard deviation: 1.365752595438434\n",
      "The min: 0.0 The max: 8.0 \n",
      "Number of values uniques: 10\n",
      "Error\n",
      "///count_adults///\n",
      "<class 'pandas.core.series.Series'>\n",
      "Index: 4983 entries, 2160 to 3360\n",
      "Series name: count_adults\n",
      "Non-Null Count  Dtype  \n",
      "--------------  -----  \n",
      "325 non-null    float64\n",
      "dtypes: float64(1)\n",
      "memory usage: 77.9 KB\n",
      "None\n",
      "/////\n",
      "Total values: 325\n",
      "Number of null values: 4658 is the 93.48% of data\n",
      "Duplicates Values: 4974 is the 99.82% of data\n",
      "Number of types: 1 types: [<class 'float'>]\n",
      "The mean: 2.003076923076923\n",
      "The standard deviation: 0.8695765307493122\n",
      "The min: 0.0 The max: 7.0 \n",
      "Number of values uniques: 9\n",
      "Error\n",
      "///count_children///\n",
      "<class 'pandas.core.series.Series'>\n",
      "Index: 4983 entries, 2160 to 3360\n",
      "Series name: count_children\n",
      "Non-Null Count  Dtype  \n",
      "--------------  -----  \n",
      "325 non-null    float64\n",
      "dtypes: float64(1)\n",
      "memory usage: 77.9 KB\n",
      "None\n",
      "/////\n",
      "Total values: 325\n",
      "Number of null values: 4658 is the 93.48% of data\n",
      "Duplicates Values: 4975 is the 99.84% of data\n",
      "Number of types: 1 types: [<class 'float'>]\n",
      "The mean: 0.7076923076923077\n",
      "The standard deviation: 1.026246260170881\n",
      "The min: 0.0 The max: 6.0 \n",
      "Number of values uniques: 8\n",
      "Error\n",
      "///count_babies///\n",
      "<class 'pandas.core.series.Series'>\n",
      "Index: 4983 entries, 2160 to 3360\n",
      "Series name: count_babies\n",
      "Non-Null Count  Dtype  \n",
      "--------------  -----  \n",
      "325 non-null    float64\n",
      "dtypes: float64(1)\n",
      "memory usage: 77.9 KB\n",
      "None\n",
      "/////\n",
      "Total values: 325\n",
      "Number of null values: 4658 is the 93.48% of data\n",
      "Duplicates Values: 4979 is the 99.92% of data\n",
      "Number of types: 1 types: [<class 'float'>]\n",
      "The mean: 0.07692307692307693\n",
      "The standard deviation: 0.2890860602613293\n",
      "The min: 0.0 The max: 2.0 \n",
      "Number of values uniques: 4\n",
      "Error\n",
      "///count_pets///\n",
      "<class 'pandas.core.series.Series'>\n",
      "Index: 4983 entries, 2160 to 3360\n",
      "Series name: count_pets\n",
      "Non-Null Count  Dtype  \n",
      "--------------  -----  \n",
      "325 non-null    float64\n",
      "dtypes: float64(1)\n",
      "memory usage: 77.9 KB\n",
      "None\n",
      "/////\n",
      "Total values: 325\n",
      "Number of null values: 4658 is the 93.48% of data\n",
      "Duplicates Values: 4975 is the 99.84% of data\n",
      "Number of types: 1 types: [<class 'float'>]\n",
      "The mean: 0.6369230769230769\n",
      "The standard deviation: 0.9956028682286281\n",
      "The min: 0.0 The max: 6.0 \n",
      "Number of values uniques: 8\n",
      "Error\n"
     ]
    }
   ],
   "source": [
    "# information about the columns\n",
    "for column in users:\n",
    "    print_initial_data_dataframe_column(users[column])"
   ]
  },
  {
   "cell_type": "markdown",
   "metadata": {},
   "source": [
    "### Abandoned_carts"
   ]
  },
  {
   "cell_type": "markdown",
   "metadata": {},
   "source": [
    "Abandoned_cart.parquet: If a user has added items to their basket but not bought them, we capture that information. Items that were abandoned are stored as a list in item_ids.\n",
    "\n",
    "*Maybe Create a column with the numbers of products in the carts Len(variant_id)"
   ]
  },
  {
   "cell_type": "code",
   "execution_count": 12,
   "metadata": {},
   "outputs": [
    {
     "name": "stdout",
     "output_type": "stream",
     "text": [
      "<class 'pandas.core.frame.DataFrame'>\n",
      "Index: 5457 entries, 0 to 70050\n",
      "Data columns (total 4 columns):\n",
      " #   Column      Non-Null Count  Dtype         \n",
      "---  ------      --------------  -----         \n",
      " 0   id          5457 non-null   int64         \n",
      " 1   user_id     5457 non-null   object        \n",
      " 2   created_at  5457 non-null   datetime64[us]\n",
      " 3   variant_id  5457 non-null   object        \n",
      "dtypes: datetime64[us](1), int64(1), object(2)\n",
      "memory usage: 213.2+ KB\n"
     ]
    }
   ],
   "source": [
    "abandoned_carts.info()"
   ]
  },
  {
   "cell_type": "code",
   "execution_count": 13,
   "metadata": {},
   "outputs": [
    {
     "name": "stdout",
     "output_type": "stream",
     "text": [
      "///id///\n",
      "<class 'pandas.core.series.Series'>\n",
      "Index: 5457 entries, 0 to 70050\n",
      "Series name: id\n",
      "Non-Null Count  Dtype\n",
      "--------------  -----\n",
      "5457 non-null   int64\n",
      "dtypes: int64(1)\n",
      "memory usage: 85.3 KB\n",
      "None\n",
      "/////\n",
      "Total values: 5457\n",
      "Number of null values: 0 is the 0.00% of data\n",
      "Duplicates Values: 0 is the 0.00% of data\n",
      "Number of types: 1 types: [<class 'int'>]\n",
      "The mean: 21618808560053.117\n",
      "The standard deviation: 402867859962.06647\n",
      "The min: 12858560217220 The max: 22233846317188 \n",
      "Number of values uniques: 5457\n",
      "\n",
      "\n",
      "///user_id///\n",
      "<class 'pandas.core.series.Series'>\n",
      "Index: 5457 entries, 0 to 70050\n",
      "Series name: user_id\n",
      "Non-Null Count  Dtype \n",
      "--------------  ----- \n",
      "5457 non-null   object\n",
      "dtypes: object(1)\n",
      "memory usage: 85.3+ KB\n",
      "None\n",
      "/////\n",
      "Total values: 5457\n",
      "Number of null values: 0 is the 0.00% of data\n",
      "Duplicates Values: 2018 is the 36.98% of data\n",
      "Number of types: 1 types: [<class 'str'>]\n",
      "Number of values uniques: 3439\n",
      "\n",
      "\n",
      "///created_at///\n",
      "<class 'pandas.core.series.Series'>\n",
      "Index: 5457 entries, 0 to 70050\n",
      "Series name: created_at\n",
      "Non-Null Count  Dtype         \n",
      "--------------  -----         \n",
      "5457 non-null   datetime64[us]\n",
      "dtypes: datetime64[us](1)\n",
      "memory usage: 85.3 KB\n",
      "None\n",
      "/////\n",
      "Total values: 5457\n",
      "Number of null values: 0 is the 0.00% of data\n",
      "Duplicates Values: 0 is the 0.00% of data\n",
      "Number of types: 1 types: [<class 'pandas._libs.tslibs.timestamps.Timestamp'>]\n",
      "Number of values uniques: 5457\n",
      "\n",
      "\n",
      "///variant_id///\n",
      "<class 'pandas.core.series.Series'>\n",
      "Index: 5457 entries, 0 to 70050\n",
      "Series name: variant_id\n",
      "Non-Null Count  Dtype \n",
      "--------------  ----- \n",
      "5457 non-null   object\n",
      "dtypes: object(1)\n",
      "memory usage: 85.3+ KB\n",
      "None\n",
      "/////\n",
      "Total values: 5457\n",
      "Number of null values: 0 is the 0.00% of data\n",
      "Duplicates Values: 539 is the 9.88% of data\n",
      "Number of types: 1 types: [<class 'numpy.ndarray'>]\n",
      "Error\n"
     ]
    }
   ],
   "source": [
    "for column in abandoned_carts:\n",
    "    print_initial_data_dataframe_column(abandoned_carts[column])"
   ]
  },
  {
   "cell_type": "markdown",
   "metadata": {},
   "source": [
    "### Inventory"
   ]
  },
  {
   "cell_type": "markdown",
   "metadata": {},
   "source": [
    "inventory.parquet: Some information about each item_id\n",
    "\n",
    "variant_id: Nothing \n",
    "price: There are 71 products without price, value zero \n",
    "compare_at_price: There are 72 products without price, value zero    "
   ]
  },
  {
   "cell_type": "code",
   "execution_count": 14,
   "metadata": {},
   "outputs": [
    {
     "name": "stdout",
     "output_type": "stream",
     "text": [
      "<class 'pandas.core.frame.DataFrame'>\n",
      "RangeIndex: 1733 entries, 0 to 1732\n",
      "Data columns (total 6 columns):\n",
      " #   Column            Non-Null Count  Dtype  \n",
      "---  ------            --------------  -----  \n",
      " 0   variant_id        1733 non-null   int64  \n",
      " 1   price             1733 non-null   float64\n",
      " 2   compare_at_price  1733 non-null   float64\n",
      " 3   vendor            1733 non-null   object \n",
      " 4   product_type      1733 non-null   object \n",
      " 5   tags              1733 non-null   object \n",
      "dtypes: float64(2), int64(1), object(3)\n",
      "memory usage: 81.4+ KB\n"
     ]
    }
   ],
   "source": [
    "inventory.info()"
   ]
  },
  {
   "cell_type": "code",
   "execution_count": 15,
   "metadata": {},
   "outputs": [
    {
     "name": "stdout",
     "output_type": "stream",
     "text": [
      "///variant_id///\n",
      "<class 'pandas.core.series.Series'>\n",
      "RangeIndex: 1733 entries, 0 to 1732\n",
      "Series name: variant_id\n",
      "Non-Null Count  Dtype\n",
      "--------------  -----\n",
      "1733 non-null   int64\n",
      "dtypes: int64(1)\n",
      "memory usage: 13.7 KB\n",
      "None\n",
      "/////\n",
      "Total values: 1733\n",
      "Number of null values: 0 is the 0.00% of data\n",
      "Duplicates Values: 0 is the 0.00% of data\n",
      "Number of types: 1 types: [<class 'int'>]\n",
      "The mean: 36948799362316.49\n",
      "The standard deviation: 2725674300769.723\n",
      "The min: 33615294398596 The max: 40167931707524 \n",
      "Number of values uniques: 1733\n",
      "\n",
      "\n",
      "///price///\n",
      "<class 'pandas.core.series.Series'>\n",
      "RangeIndex: 1733 entries, 0 to 1732\n",
      "Series name: price\n",
      "Non-Null Count  Dtype  \n",
      "--------------  -----  \n",
      "1733 non-null   float64\n",
      "dtypes: float64(1)\n",
      "memory usage: 13.7 KB\n",
      "None\n",
      "/////\n",
      "Total values: 1733\n",
      "Number of null values: 0 is the 0.00% of data\n",
      "Duplicates Values: 1554 is the 89.67% of data\n",
      "Number of types: 1 types: [<class 'float'>]\n",
      "The mean: 6.30735141373341\n",
      "The standard deviation: 7.107217663981021\n",
      "The min: 0.0 The max: 59.99 \n",
      "Number of values uniques: 179\n",
      "Error\n",
      "///compare_at_price///\n",
      "<class 'pandas.core.series.Series'>\n",
      "RangeIndex: 1733 entries, 0 to 1732\n",
      "Series name: compare_at_price\n",
      "Non-Null Count  Dtype  \n",
      "--------------  -----  \n",
      "1733 non-null   float64\n",
      "dtypes: float64(1)\n",
      "memory usage: 13.7 KB\n",
      "None\n",
      "/////\n",
      "Total values: 1733\n",
      "Number of null values: 0 is the 0.00% of data\n",
      "Duplicates Values: 1314 is the 75.82% of data\n",
      "Number of types: 1 types: [<class 'float'>]\n",
      "The mean: 7.028880553952684\n",
      "The standard deviation: 7.66054182519656\n",
      "The min: 0.0 The max: 60.0 \n",
      "Number of values uniques: 419\n",
      "Error\n",
      "///vendor///\n",
      "<class 'pandas.core.series.Series'>\n",
      "RangeIndex: 1733 entries, 0 to 1732\n",
      "Series name: vendor\n",
      "Non-Null Count  Dtype \n",
      "--------------  ----- \n",
      "1733 non-null   object\n",
      "dtypes: object(1)\n",
      "memory usage: 13.7+ KB\n",
      "None\n",
      "/////\n",
      "Total values: 1733\n",
      "Number of null values: 0 is the 0.00% of data\n",
      "Duplicates Values: 1321 is the 76.23% of data\n",
      "Number of types: 1 types: [<class 'str'>]\n",
      "Number of values uniques: 412\n",
      "Error\n",
      "///product_type///\n",
      "<class 'pandas.core.series.Series'>\n",
      "RangeIndex: 1733 entries, 0 to 1732\n",
      "Series name: product_type\n",
      "Non-Null Count  Dtype \n",
      "--------------  ----- \n",
      "1733 non-null   object\n",
      "dtypes: object(1)\n",
      "memory usage: 13.7+ KB\n",
      "None\n",
      "/////\n",
      "Total values: 1733\n",
      "Number of null values: 0 is the 0.00% of data\n",
      "Duplicates Values: 1674 is the 96.60% of data\n",
      "Number of types: 1 types: [<class 'str'>]\n",
      "Number of values uniques: 59\n",
      "Error\n",
      "///tags///\n",
      "<class 'pandas.core.series.Series'>\n",
      "RangeIndex: 1733 entries, 0 to 1732\n",
      "Series name: tags\n",
      "Non-Null Count  Dtype \n",
      "--------------  ----- \n",
      "1733 non-null   object\n",
      "dtypes: object(1)\n",
      "memory usage: 13.7+ KB\n",
      "None\n",
      "/////\n",
      "Total values: 1733\n",
      "Number of null values: 0 is the 0.00% of data\n",
      "Duplicates Values: 400 is the 23.08% of data\n",
      "Number of types: 1 types: [<class 'numpy.ndarray'>]\n",
      "Error\n"
     ]
    }
   ],
   "source": [
    "for column in inventory:\n",
    "    print_initial_data_dataframe_column(inventory[column])"
   ]
  },
  {
   "cell_type": "markdown",
   "metadata": {},
   "source": [
    "### Orders"
   ]
  },
  {
   "cell_type": "markdown",
   "metadata": {},
   "source": [
    "orders.parquet: An order history of customers. Each row is an order and the item_ids for the order are stored as a list in the item_ids column\n",
    "\n",
    "id : nothing  \n",
    "user_id : nothing  \n",
    "created_at: there is one order is duplicate  \n",
    "order_date: nothing  \n",
    "user_order_seq: Nothing  \n",
    "ordered_items: Should create a other column with the number of items in the order"
   ]
  },
  {
   "cell_type": "code",
   "execution_count": 16,
   "metadata": {},
   "outputs": [
    {
     "name": "stdout",
     "output_type": "stream",
     "text": [
      "<class 'pandas.core.frame.DataFrame'>\n",
      "Index: 8773 entries, 10 to 64538\n",
      "Data columns (total 6 columns):\n",
      " #   Column          Non-Null Count  Dtype         \n",
      "---  ------          --------------  -----         \n",
      " 0   id              8773 non-null   int64         \n",
      " 1   user_id         8773 non-null   object        \n",
      " 2   created_at      8773 non-null   datetime64[us]\n",
      " 3   order_date      8773 non-null   datetime64[us]\n",
      " 4   user_order_seq  8773 non-null   int64         \n",
      " 5   ordered_items   8773 non-null   object        \n",
      "dtypes: datetime64[us](2), int64(2), object(2)\n",
      "memory usage: 479.8+ KB\n"
     ]
    }
   ],
   "source": [
    "orders.info()"
   ]
  },
  {
   "cell_type": "code",
   "execution_count": 18,
   "metadata": {},
   "outputs": [
    {
     "name": "stdout",
     "output_type": "stream",
     "text": [
      "///id///\n",
      "<class 'pandas.core.series.Series'>\n",
      "Index: 8773 entries, 10 to 64538\n",
      "Series name: id\n",
      "Non-Null Count  Dtype\n",
      "--------------  -----\n",
      "8773 non-null   int64\n",
      "dtypes: int64(1)\n",
      "memory usage: 137.1 KB\n",
      "None\n",
      "/////\n",
      "Total values: 8773\n",
      "Number of null values: 0 is the 0.00% of data\n",
      "Duplicates Values: 0 is the 0.00% of data\n",
      "Number of types: 1 types: [<class 'int'>]\n",
      "The mean: 3684683902139.2095\n",
      "The standard deviation: 414543651600.97345\n",
      "The min: 2204073066628 The max: 4026732413060 \n",
      "Number of values uniques: 8773\n",
      "\n",
      "\n",
      "///user_id///\n",
      "<class 'pandas.core.series.Series'>\n",
      "Index: 8773 entries, 10 to 64538\n",
      "Series name: user_id\n",
      "Non-Null Count  Dtype \n",
      "--------------  ----- \n",
      "8773 non-null   object\n",
      "dtypes: object(1)\n",
      "memory usage: 137.1+ KB\n",
      "None\n",
      "/////\n",
      "Total values: 8773\n",
      "Number of null values: 0 is the 0.00% of data\n",
      "Duplicates Values: 3790 is the 43.20% of data\n",
      "Number of types: 1 types: [<class 'str'>]\n",
      "Number of values uniques: 4983\n",
      "\n",
      "\n",
      "///created_at///\n",
      "<class 'pandas.core.series.Series'>\n",
      "Index: 8773 entries, 10 to 64538\n",
      "Series name: created_at\n",
      "Non-Null Count  Dtype         \n",
      "--------------  -----         \n",
      "8773 non-null   datetime64[us]\n",
      "dtypes: datetime64[us](1)\n",
      "memory usage: 137.1 KB\n",
      "None\n",
      "/////\n",
      "Total values: 8773\n",
      "Number of null values: 0 is the 0.00% of data\n",
      "Duplicates Values: 1 is the 0.01% of data\n",
      "Number of types: 1 types: [<class 'pandas._libs.tslibs.timestamps.Timestamp'>]\n",
      "Number of values uniques: 8772\n",
      "\n",
      "\n",
      "///order_date///\n",
      "<class 'pandas.core.series.Series'>\n",
      "Index: 8773 entries, 10 to 64538\n",
      "Series name: order_date\n",
      "Non-Null Count  Dtype         \n",
      "--------------  -----         \n",
      "8773 non-null   datetime64[us]\n",
      "dtypes: datetime64[us](1)\n",
      "memory usage: 137.1 KB\n",
      "None\n",
      "/////\n",
      "Total values: 8773\n",
      "Number of null values: 0 is the 0.00% of data\n",
      "Duplicates Values: 8120 is the 92.56% of data\n",
      "Number of types: 1 types: [<class 'pandas._libs.tslibs.timestamps.Timestamp'>]\n",
      "Number of values uniques: 653\n",
      "Error\n",
      "///user_order_seq///\n",
      "<class 'pandas.core.series.Series'>\n",
      "Index: 8773 entries, 10 to 64538\n",
      "Series name: user_order_seq\n",
      "Non-Null Count  Dtype\n",
      "--------------  -----\n",
      "8773 non-null   int64\n",
      "dtypes: int64(1)\n",
      "memory usage: 137.1 KB\n",
      "None\n",
      "/////\n",
      "Total values: 8773\n",
      "Number of null values: 0 is the 0.00% of data\n",
      "Duplicates Values: 8748 is the 99.72% of data\n",
      "Number of types: 1 types: [<class 'int'>]\n",
      "The mean: 2.445115695885102\n",
      "The standard deviation: 2.707693334341481\n",
      "The min: 1 The max: 25 \n",
      "Number of values uniques: 25\n",
      "Error\n",
      "///ordered_items///\n",
      "<class 'pandas.core.series.Series'>\n",
      "Index: 8773 entries, 10 to 64538\n",
      "Series name: ordered_items\n",
      "Non-Null Count  Dtype \n",
      "--------------  ----- \n",
      "8773 non-null   object\n",
      "dtypes: object(1)\n",
      "memory usage: 137.1+ KB\n",
      "None\n",
      "/////\n",
      "Total values: 8773\n",
      "Number of null values: 0 is the 0.00% of data\n",
      "Duplicates Values: 0 is the 0.00% of data\n",
      "Number of types: 1 types: [<class 'numpy.ndarray'>]\n",
      "Error\n"
     ]
    }
   ],
   "source": [
    "for column in orders:\n",
    "    print_initial_data_dataframe_column(orders[column])"
   ]
  },
  {
   "cell_type": "markdown",
   "metadata": {},
   "source": [
    "### Regulars"
   ]
  },
  {
   "cell_type": "markdown",
   "metadata": {},
   "source": [
    "regulars.parquet: Users are allowed to specify items that they wish to buy regularly. This data gives the items each user has asked to get regularly, along with when they input that information\n",
    "\n",
    "user_id: Nothing  \n",
    "variant_id: Should create a other column with number of variant  \n",
    "created_at: Nothing"
   ]
  },
  {
   "cell_type": "code",
   "execution_count": 291,
   "metadata": {},
   "outputs": [
    {
     "name": "stdout",
     "output_type": "stream",
     "text": [
      "<class 'pandas.core.frame.DataFrame'>\n",
      "Index: 18105 entries, 3 to 37720\n",
      "Data columns (total 3 columns):\n",
      " #   Column      Non-Null Count  Dtype         \n",
      "---  ------      --------------  -----         \n",
      " 0   user_id     18105 non-null  object        \n",
      " 1   variant_id  18105 non-null  int64         \n",
      " 2   created_at  18105 non-null  datetime64[us]\n",
      "dtypes: datetime64[us](1), int64(1), object(1)\n",
      "memory usage: 565.8+ KB\n"
     ]
    }
   ],
   "source": [
    "regulars.info()"
   ]
  },
  {
   "cell_type": "code",
   "execution_count": 22,
   "metadata": {},
   "outputs": [
    {
     "name": "stdout",
     "output_type": "stream",
     "text": [
      "///user_id///\n",
      "<class 'pandas.core.series.Series'>\n",
      "Index: 18105 entries, 3 to 37720\n",
      "Series name: user_id\n",
      "Non-Null Count  Dtype \n",
      "--------------  ----- \n",
      "18105 non-null  object\n",
      "dtypes: object(1)\n",
      "memory usage: 282.9+ KB\n",
      "None\n",
      "/////\n",
      "Total values: 18105\n",
      "Number of null values: 0 is the 0.00% of data\n",
      "Duplicates Values: 16657 is the 92.00% of data\n",
      "Number of types: 1 types: [<class 'str'>]\n",
      "Number of values uniques: 1448\n",
      "Error\n",
      "///variant_id///\n",
      "<class 'pandas.core.series.Series'>\n",
      "Index: 18105 entries, 3 to 37720\n",
      "Series name: variant_id\n",
      "Non-Null Count  Dtype\n",
      "--------------  -----\n",
      "18105 non-null  int64\n",
      "dtypes: int64(1)\n",
      "memory usage: 282.9 KB\n",
      "None\n",
      "/////\n",
      "Total values: 18105\n",
      "Number of null values: 0 is the 0.00% of data\n",
      "Duplicates Values: 16262 is the 89.82% of data\n",
      "Number of types: 1 types: [<class 'int'>]\n",
      "The mean: 35119886149708.234\n",
      "The standard deviation: 2171236598474.3447\n",
      "The min: 33615268282500 The max: 40133621973124 \n",
      "Number of values uniques: 1843\n",
      "Error\n",
      "///created_at///\n",
      "<class 'pandas.core.series.Series'>\n",
      "Index: 18105 entries, 3 to 37720\n",
      "Series name: created_at\n",
      "Non-Null Count  Dtype         \n",
      "--------------  -----         \n",
      "18105 non-null  datetime64[us]\n",
      "dtypes: datetime64[us](1)\n",
      "memory usage: 282.9 KB\n",
      "None\n",
      "/////\n",
      "Total values: 18105\n",
      "Number of null values: 0 is the 0.00% of data\n",
      "Duplicates Values: 16227 is the 89.63% of data\n",
      "Number of types: 1 types: [<class 'pandas._libs.tslibs.timestamps.Timestamp'>]\n",
      "Number of values uniques: 1878\n",
      "Error\n"
     ]
    }
   ],
   "source": [
    "for column in regulars:\n",
    "    print_initial_data_dataframe_column(regulars[column])"
   ]
  },
  {
   "cell_type": "markdown",
   "metadata": {},
   "source": [
    "## hypothesis testing"
   ]
  },
  {
   "cell_type": "markdown",
   "metadata": {},
   "source": [
    "### Type of users who abandon more cars"
   ]
  },
  {
   "cell_type": "code",
   "execution_count": 20,
   "metadata": {},
   "outputs": [
    {
     "data": {
      "text/plain": [
       "<Axes: ylabel='n_abandoned_cars_by_users_segment'>"
      ]
     },
     "execution_count": 20,
     "metadata": {},
     "output_type": "execute_result"
    },
    {
     "data": {
      "image/png": "[encoded data removed]",
      "text/plain": [
       "<Figure size 640x480 with 1 Axes>"
      ]
     },
     "metadata": {},
     "output_type": "display_data"
    }
   ],
   "source": [
    "# Users who abandon cars: User segment which have more abandoned carts\n",
    "# Count number of carts abandoned\n",
    "n_abandoned_cars = (\n",
    "    abandoned_carts.groupby(\"user_id\")[\"id\"]\n",
    "    .nunique()\n",
    "    .reset_index()\n",
    "    .rename(columns={\"id\": \"n_abandoned_cars\"})\n",
    ")\n",
    "\n",
    "# merge which the users dataframe and user segment\n",
    "n_abandoned_cars_by_users_segment = (\n",
    "    users.merge(n_abandoned_cars, on=\"user_id\", how=\"inner\")\n",
    "    .groupby(\"user_segment\")[\"n_abandoned_cars\"]\n",
    "    .sum()\n",
    "    .reset_index()\n",
    "    .rename(columns={\"n_abandoned_cars\": \"n_abandoned_cars_by_users_segment\"})\n",
    ")\n",
    "n_abandoned_cars_by_users_segment.set_index(\"user_segment\")[\n",
    "    \"n_abandoned_cars_by_users_segment\"\n",
    "].plot(kind=\"pie\", autopct=\"%1.1f%%\")\n",
    "\n",
    "# There a similar proporsion for the type of user who abandoned cars"
   ]
  },
  {
   "cell_type": "markdown",
   "metadata": {},
   "source": [
    "### Number of regulars of each user segment"
   ]
  },
  {
   "cell_type": "code",
   "execution_count": null,
   "metadata": {},
   "outputs": [
    {
     "data": {
      "text/plain": [
       "<Axes: xlabel='user_segment'>"
      ]
     },
     "execution_count": 23,
     "metadata": {},
     "output_type": "execute_result"
    },
    {
     "data": {
      "image/png": "[encoded data removed]",
      "text/plain": [
       "<Figure size 640x480 with 1 Axes>"
      ]
     },
     "metadata": {},
     "output_type": "display_data"
    }
   ],
   "source": [
    "# count products regular by user id\n",
    "n_products_regulars = (\n",
    "    regulars.groupby(\"user_id\")[\"variant_id\"]\n",
    "    .nunique()\n",
    "    .reset_index()\n",
    "    .rename(columns={\"variant_id\": \"n_products_regulars\"})\n",
    ")\n",
    "\n",
    "# n regulars by user_segment\n",
    "users = users.merge(n_products_regulars, on=\"user_id\", how=\"left\").fillna(\n",
    "    {\"n_products_regulars\": 0}\n",
    ")\n",
    "users.groupby(\"user_segment\")[\"n_products_regulars\"].sum().plot(kind=\"bar\")\n",
    "\n",
    "# the users \"proposition\" have more regulars products"
   ]
  },
  {
   "cell_type": "markdown",
   "metadata": {},
   "source": [
    "### Numbers of products abandoned vs purchased"
   ]
  },
  {
   "cell_type": "code",
   "execution_count": 29,
   "metadata": {},
   "outputs": [],
   "source": [
    "# number products abandoned\n",
    "n_abandoned = (\n",
    "    abandoned_carts[\"variant_id\"]\n",
    "    .explode(\"variant_id\")\n",
    "    .value_counts()\n",
    "    .rename(\"n_abandoned\")\n",
    ")\n",
    "# number products purchased\n",
    "n_purchased = (\n",
    "    orders[\"ordered_items\"]\n",
    "    .explode(\"ordered_items\")\n",
    "    .value_counts()\n",
    "    .rename(\"n_purchased\")\n",
    ")\n",
    "n_purchased.index = n_purchased.index.rename(\"variant_id\")\n",
    "\n",
    "inventory = inventory.merge(n_abandoned, on=\"variant_id\", how=\"inner\")\n",
    "inventory = inventory.merge(n_purchased, on=\"variant_id\", how=\"inner\")"
   ]
  },
  {
   "cell_type": "code",
   "execution_count": null,
   "metadata": {},
   "outputs": [
    {
     "data": {
      "text/html": [
       "<div>\n",
       "<style scoped>\n",
       "    .dataframe tbody tr th:only-of-type {\n",
       "        vertical-align: middle;\n",
       "    }\n",
       "\n",
       "    .dataframe tbody tr th {\n",
       "        vertical-align: top;\n",
       "    }\n",
       "\n",
       "    .dataframe thead th {\n",
       "        text-align: right;\n",
       "    }\n",
       "</style>\n",
       "<table border=\"1\" class=\"dataframe\">\n",
       "  <thead>\n",
       "    <tr style=\"text-align: right;\">\n",
       "      <th></th>\n",
       "      <th>product_type</th>\n",
       "      <th>relation_buy_vs_abandoned</th>\n",
       "      <th>price</th>\n",
       "      <th>compare_at_price</th>\n",
       "      <th>vendor</th>\n",
       "    </tr>\n",
       "  </thead>\n",
       "  <tbody>\n",
       "    <tr>\n",
       "      <th>807</th>\n",
       "      <td>tins-packaged-foods</td>\n",
       "      <td>97.826087</td>\n",
       "      <td>1.36</td>\n",
       "      <td>1.59</td>\n",
       "      <td>biona</td>\n",
       "    </tr>\n",
       "    <tr>\n",
       "      <th>385</th>\n",
       "      <td>cleaning-products</td>\n",
       "      <td>97.222222</td>\n",
       "      <td>5.19</td>\n",
       "      <td>5.25</td>\n",
       "      <td>ecoforce</td>\n",
       "    </tr>\n",
       "    <tr>\n",
       "      <th>446</th>\n",
       "      <td>dog-food</td>\n",
       "      <td>96.875000</td>\n",
       "      <td>4.89</td>\n",
       "      <td>4.98</td>\n",
       "      <td>bakers</td>\n",
       "    </tr>\n",
       "    <tr>\n",
       "      <th>852</th>\n",
       "      <td>bath-shower-gel</td>\n",
       "      <td>96.875000</td>\n",
       "      <td>5.79</td>\n",
       "      <td>5.92</td>\n",
       "      <td>faithinnature</td>\n",
       "    </tr>\n",
       "    <tr>\n",
       "      <th>456</th>\n",
       "      <td>haircare</td>\n",
       "      <td>96.774194</td>\n",
       "      <td>7.49</td>\n",
       "      <td>7.50</td>\n",
       "      <td>lovebeautyplanet</td>\n",
       "    </tr>\n",
       "    <tr>\n",
       "      <th>...</th>\n",
       "      <td>...</td>\n",
       "      <td>...</td>\n",
       "      <td>...</td>\n",
       "      <td>...</td>\n",
       "      <td>...</td>\n",
       "    </tr>\n",
       "    <tr>\n",
       "      <th>550</th>\n",
       "      <td>superfoods-supplements</td>\n",
       "      <td>25.000000</td>\n",
       "      <td>23.99</td>\n",
       "      <td>24.00</td>\n",
       "      <td>funktionalfoods</td>\n",
       "    </tr>\n",
       "    <tr>\n",
       "      <th>746</th>\n",
       "      <td>washing-capsules</td>\n",
       "      <td>25.000000</td>\n",
       "      <td>9.99</td>\n",
       "      <td>10.00</td>\n",
       "      <td>persil</td>\n",
       "    </tr>\n",
       "    <tr>\n",
       "      <th>122</th>\n",
       "      <td>home-baking</td>\n",
       "      <td>25.000000</td>\n",
       "      <td>14.99</td>\n",
       "      <td>17.08</td>\n",
       "      <td>various</td>\n",
       "    </tr>\n",
       "    <tr>\n",
       "      <th>868</th>\n",
       "      <td>dental</td>\n",
       "      <td>20.000000</td>\n",
       "      <td>4.99</td>\n",
       "      <td>5.99</td>\n",
       "      <td>brushd</td>\n",
       "    </tr>\n",
       "    <tr>\n",
       "      <th>994</th>\n",
       "      <td>nappies-nappy-pants</td>\n",
       "      <td>20.000000</td>\n",
       "      <td>4.99</td>\n",
       "      <td>5.00</td>\n",
       "      <td>huggies</td>\n",
       "    </tr>\n",
       "  </tbody>\n",
       "</table>\n",
       "<p>1383 rows × 5 columns</p>\n",
       "</div>"
      ],
      "text/plain": [
       "               product_type  relation_buy_vs_abandoned  price  \\\n",
       "807     tins-packaged-foods                  97.826087   1.36   \n",
       "385       cleaning-products                  97.222222   5.19   \n",
       "446                dog-food                  96.875000   4.89   \n",
       "852         bath-shower-gel                  96.875000   5.79   \n",
       "456                haircare                  96.774194   7.49   \n",
       "..                      ...                        ...    ...   \n",
       "550  superfoods-supplements                  25.000000  23.99   \n",
       "746        washing-capsules                  25.000000   9.99   \n",
       "122             home-baking                  25.000000  14.99   \n",
       "868                  dental                  20.000000   4.99   \n",
       "994     nappies-nappy-pants                  20.000000   4.99   \n",
       "\n",
       "     compare_at_price            vendor  \n",
       "807              1.59             biona  \n",
       "385              5.25          ecoforce  \n",
       "446              4.98            bakers  \n",
       "852              5.92     faithinnature  \n",
       "456              7.50  lovebeautyplanet  \n",
       "..                ...               ...  \n",
       "550             24.00   funktionalfoods  \n",
       "746             10.00            persil  \n",
       "122             17.08           various  \n",
       "868              5.99            brushd  \n",
       "994              5.00           huggies  \n",
       "\n",
       "[1383 rows x 5 columns]"
      ]
     },
     "execution_count": 31,
     "metadata": {},
     "output_type": "execute_result"
    }
   ],
   "source": [
    "# relation_purchased_vs_abandoned: products almost always are purchased and almost never abandoned\n",
    "inventory[\"relation_buy_vs_abandoned\"] = (\n",
    "    inventory[\"n_purchased\"] / (inventory[\"n_purchased\"] + inventory[\"n_abandoned\"])\n",
    ") * 100\n",
    "relation_buy_vs_abandoned = inventory.sort_values(\n",
    "    by=\"relation_buy_vs_abandoned\", ascending=False\n",
    ")\n",
    "relation_buy_vs_abandoned[\n",
    "    [\"product_type\", \"relation_buy_vs_abandoned\", \"price\", \"compare_at_price\", \"vendor\"]\n",
    "]\n",
    "\n",
    "# List of the products more purschased without abandoned"
   ]
  },
  {
   "cell_type": "markdown",
   "metadata": {},
   "source": [
    "### Numbers of pets, babies or children"
   ]
  },
  {
   "cell_type": "code",
   "execution_count": 33,
   "metadata": {},
   "outputs": [
    {
     "data": {
      "image/png": "[encoded data removed]",
      "text/plain": [
       "<Figure size 640x480 with 1 Axes>"
      ]
     },
     "metadata": {},
     "output_type": "display_data"
    }
   ],
   "source": [
    "# count of each stadistics\n",
    "n_children = users.count_children.value_counts(normalize=True).sort_index() * 100\n",
    "n_pets = users.count_pets.value_counts(normalize=True).sort_index() * 100\n",
    "n_babies = users.count_babies.value_counts(normalize=True).sort_index() * 100\n",
    "\n",
    "n_children_pets_babies = pd.DataFrame(\n",
    "    {\"children\": n_children, \"pets\": n_pets, \"babies\": n_babies}\n",
    ")\n",
    "n_children_pets_babies.plot(kind=\"bar\").grid()\n",
    "\n",
    "# most users do not have children, pets or babies"
   ]
  },
  {
   "cell_type": "code",
   "execution_count": 28,
   "metadata": {},
   "outputs": [
    {
     "name": "stdout",
     "output_type": "stream",
     "text": [
      "40.00% of poblation has children\n",
      "40.62% of poblation has pets\n",
      "7.08% of poblation has babies\n"
     ]
    }
   ],
   "source": [
    "for column in n_children_pets_babies:\n",
    "    print(\n",
    "        f\"{n_children_pets_babies[column][n_children_pets_babies.index>=1].sum() :.2f}% of poblation has {column}\"\n",
    "    )"
   ]
  },
  {
   "cell_type": "code",
   "execution_count": 78,
   "metadata": {},
   "outputs": [
    {
     "name": "stdout",
     "output_type": "stream",
     "text": [
      "The percentage of people without babies, children or pets is: 38.77%\n"
     ]
    }
   ],
   "source": [
    "no_babies_no_pets = users[\n",
    "    (users[\"count_babies\"] == 0)\n",
    "    & (users[\"count_pets\"] == 0)\n",
    "    & (users[\"count_children\"] == 0)\n",
    "]\n",
    "no_babies_no_pets\n",
    "porcentaje = (\n",
    "    len(no_babies_no_pets) / len(users[pd.notna(users[\"count_people\"])])\n",
    ") * 100\n",
    "\n",
    "print(\n",
    "    f\"The percentage of people without babies, children and pets is: {porcentaje:.2f}%\"\n",
    ")"
   ]
  },
  {
   "cell_type": "markdown",
   "metadata": {},
   "source": [
    "### User Segment by Region "
   ]
  },
  {
   "cell_type": "code",
   "execution_count": null,
   "metadata": {},
   "outputs": [
    {
     "data": {
      "text/plain": [
       "<Axes: xlabel='user_nuts1'>"
      ]
     },
     "execution_count": 32,
     "metadata": {},
     "output_type": "execute_result"
    },
    {
     "data": {
      "image/png": "[encoded data removed]",
      "text/plain": [
       "<Figure size 640x480 with 1 Axes>"
      ]
     },
     "metadata": {},
     "output_type": "display_data"
    }
   ],
   "source": [
    "# The user segment by region\n",
    "pd.crosstab(users[\"user_nuts1\"], users[\"user_segment\"]).plot(kind=\"bar\")"
   ]
  },
  {
   "cell_type": "code",
   "execution_count": null,
   "metadata": {},
   "outputs": [
    {
     "data": {
      "image/png": "[encoded data removed]",
      "text/plain": [
       "<Figure size 1000x500 with 1 Axes>"
      ]
     },
     "metadata": {},
     "output_type": "display_data"
    }
   ],
   "source": [
    "# The porcentual diferent bewteen the user segment by region\n",
    "region = pd.crosstab(users[\"user_nuts1\"], users[\"user_segment\"])\n",
    "\n",
    "fig, ax = plt.subplots(figsize=(10, 5))\n",
    "\n",
    "(\n",
    "    (\n",
    "        abs(region[\"Proposition\"] - region[\"Top Up\"])\n",
    "        / ((region[\"Proposition\"] + region[\"Top Up\"]))\n",
    "        / 2\n",
    "    )\n",
    "    * 100\n",
    ").plot(kind=\"bar\")\n",
    "\n",
    "ax.bar_label(ax.containers[0], fmt=\"%.1f%%\")\n",
    "\n",
    "plt.show()"
   ]
  },
  {
   "cell_type": "markdown",
   "metadata": {},
   "source": [
    "#### number of Regulars per each product"
   ]
  },
  {
   "cell_type": "code",
   "execution_count": 331,
   "metadata": {},
   "outputs": [
    {
     "data": {
      "text/plain": [
       "variant_id            0\n",
       "price                 0\n",
       "compare_at_price      0\n",
       "vendor                0\n",
       "product_type          0\n",
       "tags                  0\n",
       "n_regulars          448\n",
       "dtype: int64"
      ]
     },
     "execution_count": 331,
     "metadata": {},
     "output_type": "execute_result"
    }
   ],
   "source": [
    "# There are some producs aren't regulars\n",
    "inventory_with_regulars = inventory.merge(\n",
    "    regulars.value_counts(\"variant_id\"), on=\"variant_id\", how=\"left\"\n",
    ").rename(columns={\"count\": \"n_regulars\"})\n",
    "inventory_with_regulars.isna().sum()"
   ]
  },
  {
   "cell_type": "code",
   "execution_count": null,
   "metadata": {},
   "outputs": [
    {
     "data": {
      "text/html": [
       "<div>\n",
       "<style scoped>\n",
       "    .dataframe tbody tr th:only-of-type {\n",
       "        vertical-align: middle;\n",
       "    }\n",
       "\n",
       "    .dataframe tbody tr th {\n",
       "        vertical-align: top;\n",
       "    }\n",
       "\n",
       "    .dataframe thead th {\n",
       "        text-align: right;\n",
       "    }\n",
       "</style>\n",
       "<table border=\"1\" class=\"dataframe\">\n",
       "  <thead>\n",
       "    <tr style=\"text-align: right;\">\n",
       "      <th></th>\n",
       "      <th>variant_id</th>\n",
       "      <th>price</th>\n",
       "      <th>compare_at_price</th>\n",
       "      <th>vendor</th>\n",
       "      <th>product_type</th>\n",
       "      <th>tags</th>\n",
       "      <th>n_regulars</th>\n",
       "    </tr>\n",
       "  </thead>\n",
       "  <tbody>\n",
       "    <tr>\n",
       "      <th>63</th>\n",
       "      <td>34081589887108</td>\n",
       "      <td>10.79</td>\n",
       "      <td>11.94</td>\n",
       "      <td>oatly</td>\n",
       "      <td>long-life-milk-substitutes</td>\n",
       "      <td>[oat-milk, vegan]</td>\n",
       "      <td>253.0</td>\n",
       "    </tr>\n",
       "    <tr>\n",
       "      <th>1</th>\n",
       "      <td>34370361229444</td>\n",
       "      <td>4.99</td>\n",
       "      <td>5.50</td>\n",
       "      <td>whogivesacrap</td>\n",
       "      <td>toilet-roll-kitchen-roll-tissue</td>\n",
       "      <td>[b-corp, eco, toilet-rolls]</td>\n",
       "      <td>127.0</td>\n",
       "    </tr>\n",
       "    <tr>\n",
       "      <th>139</th>\n",
       "      <td>34370915041412</td>\n",
       "      <td>4.99</td>\n",
       "      <td>6.60</td>\n",
       "      <td>mutti</td>\n",
       "      <td>tins-packaged-foods</td>\n",
       "      <td>[pasta-pizza-sauce, tinned-tomatoes-puree-pass...</td>\n",
       "      <td>112.0</td>\n",
       "    </tr>\n",
       "    <tr>\n",
       "      <th>2</th>\n",
       "      <td>34284951863428</td>\n",
       "      <td>3.69</td>\n",
       "      <td>3.99</td>\n",
       "      <td>plenty</td>\n",
       "      <td>toilet-roll-kitchen-roll-tissue</td>\n",
       "      <td>[kitchen-roll]</td>\n",
       "      <td>105.0</td>\n",
       "    </tr>\n",
       "    <tr>\n",
       "      <th>251</th>\n",
       "      <td>33667282436228</td>\n",
       "      <td>3.99</td>\n",
       "      <td>4.00</td>\n",
       "      <td>thecheekypanda</td>\n",
       "      <td>toilet-roll-kitchen-roll-tissue</td>\n",
       "      <td>[b-corp, cruelty-free, eco, kitchen-roll, vegan]</td>\n",
       "      <td>101.0</td>\n",
       "    </tr>\n",
       "    <tr>\n",
       "      <th>...</th>\n",
       "      <td>...</td>\n",
       "      <td>...</td>\n",
       "      <td>...</td>\n",
       "      <td>...</td>\n",
       "      <td>...</td>\n",
       "      <td>...</td>\n",
       "      <td>...</td>\n",
       "    </tr>\n",
       "    <tr>\n",
       "      <th>1201</th>\n",
       "      <td>39483175534724</td>\n",
       "      <td>4.49</td>\n",
       "      <td>5.39</td>\n",
       "      <td>gsk</td>\n",
       "      <td>superfoods-supplements</td>\n",
       "      <td>[vitamins-supplements]</td>\n",
       "      <td>1.0</td>\n",
       "    </tr>\n",
       "    <tr>\n",
       "      <th>570</th>\n",
       "      <td>34371968532612</td>\n",
       "      <td>11.99</td>\n",
       "      <td>15.54</td>\n",
       "      <td>ellaskitchen</td>\n",
       "      <td>baby-toddler-food</td>\n",
       "      <td>[b-corp, organic, pouches, stage-1-4-to-6-months]</td>\n",
       "      <td>1.0</td>\n",
       "    </tr>\n",
       "    <tr>\n",
       "      <th>362</th>\n",
       "      <td>39309575618692</td>\n",
       "      <td>20.49</td>\n",
       "      <td>20.59</td>\n",
       "      <td>famousgrouse</td>\n",
       "      <td>spirits-liqueurs</td>\n",
       "      <td>[spirits-liqueurs]</td>\n",
       "      <td>1.0</td>\n",
       "    </tr>\n",
       "    <tr>\n",
       "      <th>1478</th>\n",
       "      <td>39462725615748</td>\n",
       "      <td>9.99</td>\n",
       "      <td>10.00</td>\n",
       "      <td>venus</td>\n",
       "      <td>shaving-grooming</td>\n",
       "      <td>[razors-blades]</td>\n",
       "      <td>1.0</td>\n",
       "    </tr>\n",
       "    <tr>\n",
       "      <th>705</th>\n",
       "      <td>39316984004740</td>\n",
       "      <td>0.99</td>\n",
       "      <td>1.05</td>\n",
       "      <td>greencuisine</td>\n",
       "      <td>cooking-ingredients</td>\n",
       "      <td>[christmas, herbs-spices, refills, vegan]</td>\n",
       "      <td>1.0</td>\n",
       "    </tr>\n",
       "  </tbody>\n",
       "</table>\n",
       "<p>1285 rows × 7 columns</p>\n",
       "</div>"
      ],
      "text/plain": [
       "          variant_id  price  compare_at_price          vendor  \\\n",
       "63    34081589887108  10.79             11.94           oatly   \n",
       "1     34370361229444   4.99              5.50   whogivesacrap   \n",
       "139   34370915041412   4.99              6.60           mutti   \n",
       "2     34284951863428   3.69              3.99          plenty   \n",
       "251   33667282436228   3.99              4.00  thecheekypanda   \n",
       "...              ...    ...               ...             ...   \n",
       "1201  39483175534724   4.49              5.39             gsk   \n",
       "570   34371968532612  11.99             15.54    ellaskitchen   \n",
       "362   39309575618692  20.49             20.59    famousgrouse   \n",
       "1478  39462725615748   9.99             10.00           venus   \n",
       "705   39316984004740   0.99              1.05    greencuisine   \n",
       "\n",
       "                         product_type  \\\n",
       "63         long-life-milk-substitutes   \n",
       "1     toilet-roll-kitchen-roll-tissue   \n",
       "139               tins-packaged-foods   \n",
       "2     toilet-roll-kitchen-roll-tissue   \n",
       "251   toilet-roll-kitchen-roll-tissue   \n",
       "...                               ...   \n",
       "1201           superfoods-supplements   \n",
       "570                 baby-toddler-food   \n",
       "362                  spirits-liqueurs   \n",
       "1478                 shaving-grooming   \n",
       "705               cooking-ingredients   \n",
       "\n",
       "                                                   tags  n_regulars  \n",
       "63                                    [oat-milk, vegan]       253.0  \n",
       "1                           [b-corp, eco, toilet-rolls]       127.0  \n",
       "139   [pasta-pizza-sauce, tinned-tomatoes-puree-pass...       112.0  \n",
       "2                                        [kitchen-roll]       105.0  \n",
       "251    [b-corp, cruelty-free, eco, kitchen-roll, vegan]       101.0  \n",
       "...                                                 ...         ...  \n",
       "1201                             [vitamins-supplements]         1.0  \n",
       "570   [b-corp, organic, pouches, stage-1-4-to-6-months]         1.0  \n",
       "362                                  [spirits-liqueurs]         1.0  \n",
       "1478                                    [razors-blades]         1.0  \n",
       "705           [christmas, herbs-spices, refills, vegan]         1.0  \n",
       "\n",
       "[1285 rows x 7 columns]"
      ]
     },
     "execution_count": 333,
     "metadata": {},
     "output_type": "execute_result"
    }
   ],
   "source": [
    "# show the products that are the most regulars\n",
    "products_regulars = inventory_with_regulars.dropna()\n",
    "products_regulars.sort_values(\"n_regulars\", ascending=False)"
   ]
  },
  {
   "cell_type": "code",
   "execution_count": null,
   "metadata": {},
   "outputs": [
    {
     "data": {
      "text/plain": [
       "<Axes: xlabel='product_type'>"
      ]
     },
     "execution_count": 330,
     "metadata": {},
     "output_type": "execute_result"
    },
    {
     "data": {
      "image/png": "[encoded data removed]",
      "text/plain": [
       "<Figure size 640x480 with 1 Axes>"
      ]
     },
     "metadata": {},
     "output_type": "display_data"
    }
   ],
   "source": [
    "(\n",
    "    inventory_with_regulars[[\"product_type\", \"n_regulars\"]]\n",
    "    .sort_values(\"n_regulars\", ascending=False)\n",
    "    .set_index(\"product_type\")\n",
    "    .head(20)\n",
    "    .plot(kind=\"bar\")\n",
    ")"
   ]
  },
  {
   "cell_type": "markdown",
   "metadata": {},
   "source": [
    "#### The most products sold"
   ]
  },
  {
   "cell_type": "code",
   "execution_count": 79,
   "metadata": {},
   "outputs": [
    {
     "data": {
      "text/html": [
       "<div>\n",
       "<style scoped>\n",
       "    .dataframe tbody tr th:only-of-type {\n",
       "        vertical-align: middle;\n",
       "    }\n",
       "\n",
       "    .dataframe tbody tr th {\n",
       "        vertical-align: top;\n",
       "    }\n",
       "\n",
       "    .dataframe thead th {\n",
       "        text-align: right;\n",
       "    }\n",
       "</style>\n",
       "<table border=\"1\" class=\"dataframe\">\n",
       "  <thead>\n",
       "    <tr style=\"text-align: right;\">\n",
       "      <th></th>\n",
       "      <th>variant_id</th>\n",
       "      <th>price</th>\n",
       "      <th>compare_at_price</th>\n",
       "      <th>vendor</th>\n",
       "      <th>product_type</th>\n",
       "      <th>tags</th>\n",
       "      <th>n_abandoned_x</th>\n",
       "      <th>n_purchased_x</th>\n",
       "      <th>n_abandoned_y</th>\n",
       "      <th>n_purchased_y</th>\n",
       "      <th>n_abandoned</th>\n",
       "      <th>n_purchased</th>\n",
       "      <th>relation_buy_vs_abandoned</th>\n",
       "      <th>n_sold</th>\n",
       "    </tr>\n",
       "  </thead>\n",
       "  <tbody>\n",
       "    <tr>\n",
       "      <th>59</th>\n",
       "      <td>34081589887108</td>\n",
       "      <td>10.79</td>\n",
       "      <td>11.94</td>\n",
       "      <td>oatly</td>\n",
       "      <td>long-life-milk-substitutes</td>\n",
       "      <td>[oat-milk, vegan]</td>\n",
       "      <td>608</td>\n",
       "      <td>4487</td>\n",
       "      <td>608</td>\n",
       "      <td>4487</td>\n",
       "      <td>608</td>\n",
       "      <td>4487</td>\n",
       "      <td>88.066732</td>\n",
       "      <td>4487</td>\n",
       "    </tr>\n",
       "    <tr>\n",
       "      <th>2</th>\n",
       "      <td>34284951863428</td>\n",
       "      <td>3.69</td>\n",
       "      <td>3.99</td>\n",
       "      <td>plenty</td>\n",
       "      <td>toilet-roll-kitchen-roll-tissue</td>\n",
       "      <td>[kitchen-roll]</td>\n",
       "      <td>478</td>\n",
       "      <td>1133</td>\n",
       "      <td>478</td>\n",
       "      <td>1133</td>\n",
       "      <td>478</td>\n",
       "      <td>1133</td>\n",
       "      <td>70.328988</td>\n",
       "      <td>1133</td>\n",
       "    </tr>\n",
       "    <tr>\n",
       "      <th>765</th>\n",
       "      <td>34284950356100</td>\n",
       "      <td>1.99</td>\n",
       "      <td>3.00</td>\n",
       "      <td>fairy</td>\n",
       "      <td>dishwashing</td>\n",
       "      <td>[discontinue, swapped, washing-up-liquid]</td>\n",
       "      <td>409</td>\n",
       "      <td>954</td>\n",
       "      <td>409</td>\n",
       "      <td>954</td>\n",
       "      <td>409</td>\n",
       "      <td>954</td>\n",
       "      <td>69.992663</td>\n",
       "      <td>954</td>\n",
       "    </tr>\n",
       "  </tbody>\n",
       "</table>\n",
       "</div>"
      ],
      "text/plain": [
       "         variant_id  price  compare_at_price  vendor  \\\n",
       "59   34081589887108  10.79             11.94   oatly   \n",
       "2    34284951863428   3.69              3.99  plenty   \n",
       "765  34284950356100   1.99              3.00   fairy   \n",
       "\n",
       "                        product_type  \\\n",
       "59        long-life-milk-substitutes   \n",
       "2    toilet-roll-kitchen-roll-tissue   \n",
       "765                      dishwashing   \n",
       "\n",
       "                                          tags  n_abandoned_x  n_purchased_x  \\\n",
       "59                           [oat-milk, vegan]            608           4487   \n",
       "2                               [kitchen-roll]            478           1133   \n",
       "765  [discontinue, swapped, washing-up-liquid]            409            954   \n",
       "\n",
       "     n_abandoned_y  n_purchased_y  n_abandoned  n_purchased  \\\n",
       "59             608           4487          608         4487   \n",
       "2              478           1133          478         1133   \n",
       "765            409            954          409          954   \n",
       "\n",
       "     relation_buy_vs_abandoned  n_sold  \n",
       "59                   88.066732    4487  \n",
       "2                    70.328988    1133  \n",
       "765                  69.992663     954  "
      ]
     },
     "execution_count": 79,
     "metadata": {},
     "output_type": "execute_result"
    }
   ],
   "source": [
    "# The most products sold\n",
    "n_products_sold = (\n",
    "    orders.explode(\"ordered_items\")\n",
    "    .groupby(\"ordered_items\")\n",
    "    .size()\n",
    "    .reset_index(name=\"n_sold\")\n",
    ")\n",
    "n_products_sold\n",
    "n_products_sold = n_products_sold.rename(columns={\"ordered_items\": \"variant_id\"})\n",
    "inventory_sales = inventory.merge(n_products_sold, on=\"variant_id\")\n",
    "inventory_sales.sort_values(\"n_sold\", ascending=False).head(3)"
   ]
  },
  {
   "cell_type": "code",
   "execution_count": 387,
   "metadata": {},
   "outputs": [
    {
     "data": {
      "text/plain": [
       "<Axes: xlabel='product_type'>"
      ]
     },
     "execution_count": 387,
     "metadata": {},
     "output_type": "execute_result"
    },
    {
     "data": {
      "image/png": "[encoded data removed]",
      "text/plain": [
       "<Figure size 640x480 with 1 Axes>"
      ]
     },
     "metadata": {},
     "output_type": "display_data"
    }
   ],
   "source": [
    "inventory_sales[[\"product_type\", \"n_sold\"]].sort_values(\n",
    "    \"n_sold\", ascending=False\n",
    ").set_index(\"product_type\").head(20).plot(kind=\"bar\")"
   ]
  },
  {
   "cell_type": "code",
   "execution_count": 390,
   "metadata": {},
   "outputs": [
    {
     "data": {
      "text/plain": [
       "<Axes: xlabel='vendor'>"
      ]
     },
     "execution_count": 390,
     "metadata": {},
     "output_type": "execute_result"
    },
    {
     "data": {
      "image/png": "[encoded data removed]",
      "text/plain": [
       "<Figure size 640x480 with 1 Axes>"
      ]
     },
     "metadata": {},
     "output_type": "display_data"
    }
   ],
   "source": [
    "# the most vendedor\n",
    "inventory_sales[\"vendor\"].value_counts().head(30).plot(kind=\"bar\")"
   ]
  },
  {
   "cell_type": "code",
   "execution_count": 393,
   "metadata": {},
   "outputs": [
    {
     "data": {
      "text/plain": [
       "<Axes: xlabel='product_type'>"
      ]
     },
     "execution_count": 393,
     "metadata": {},
     "output_type": "execute_result"
    },
    {
     "data": {
      "image/png": "[encoded data removed]",
      "text/plain": [
       "<Figure size 640x480 with 1 Axes>"
      ]
     },
     "metadata": {},
     "output_type": "display_data"
    }
   ],
   "source": [
    "inventory_sales[\"product_type\"].value_counts().head(30).plot(kind=\"bar\")"
   ]
  },
  {
   "cell_type": "code",
   "execution_count": 395,
   "metadata": {},
   "outputs": [
    {
     "data": {
      "text/plain": [
       "28.316275336142887"
      ]
     },
     "execution_count": 395,
     "metadata": {},
     "output_type": "execute_result"
    }
   ],
   "source": [
    "# porcentual user with more than 1 order\n",
    "orders.loc[\n",
    "    lambda x: x.user_order_seq > 1\n",
    "].user_id.nunique() / orders.user_id.nunique() * 100"
   ]
  },
  {
   "cell_type": "markdown",
   "metadata": {},
   "source": [
    "#### f"
   ]
  },
  {
   "cell_type": "code",
   "execution_count": null,
   "metadata": {},
   "outputs": [
    {
     "data": {
      "text/plain": [
       "<Axes: xlabel='user_order_seq'>"
      ]
     },
     "execution_count": 45,
     "metadata": {},
     "output_type": "execute_result"
    },
    {
     "data": {
      "image/png": "[encoded data removed]",
      "text/plain": [
       "<Figure size 640x480 with 1 Axes>"
      ]
     },
     "metadata": {},
     "output_type": "display_data"
    }
   ],
   "source": [
    "# number of sequencial order\n",
    "orders[\"user_order_seq\"].value_counts(normalize=True).plot(kind=\"bar\")"
   ]
  },
  {
   "cell_type": "code",
   "execution_count": null,
   "metadata": {},
   "outputs": [
    {
     "data": {
      "text/plain": [
       "15.694066210933881"
      ]
     },
     "execution_count": 80,
     "metadata": {},
     "output_type": "execute_result"
    }
   ],
   "source": [
    "# products boufht without produccts in inventory\n",
    "products_order = orders.explode(\"ordered_items\").rename(\n",
    "    {\"ordered_items\": \"variant_id\"}, axis=1\n",
    ")\n",
    "products_order = products_order.merge(inventory, on=\"variant_id\", how=\"left\")\n",
    "products_order\n",
    "100 * products_order.price.isna().sum() / products_order.shape[0]"
   ]
  },
  {
   "cell_type": "markdown",
   "metadata": {},
   "source": [
    "# Insights\n",
    "* Only 325 lines have the next data, might be a survey. This data is distributed throughout the entire data period.\n",
    "* The percentage of people without babies, children or pets is: 38.77%\n",
    "* The region UKI are the most number of users, and the region UKD have the more proportional difference between the user_segment with 10.9%\n",
    "* There are 448 products that are not regulars\n",
    "* Long-life milk substitutes are the best-selling product\n",
    "* Bioma is the biggest vendor\n",
    "* 28% of users had more than one order sequence\n",
    "* There are 15.7% products bought without products in inventory**"
   ]
  }
 ],
 "metadata": {
  "kernelspec": {
   "display_name": "zrive-ds-yh3a_Qli-py3.11",
   "language": "python",
   "name": "python3"
  },
  "language_info": {
   "codemirror_mode": {
    "name": "ipython",
    "version": 3
   },
   "file_extension": ".py",
   "mimetype": "text/x-python",
   "name": "python",
   "nbconvert_exporter": "python",
   "pygments_lexer": "ipython3",
   "version": "3.11.0"
  },
  "orig_nbformat": 4
 },
 "nbformat": 4,
 "nbformat_minor": 2
}

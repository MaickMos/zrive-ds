{
 "cells": [
  {
   "cell_type": "markdown",
   "metadata": {},
   "source": [
    "* Solo con el nombre de las funciones y un buen tipado se deben explica el codigo.\n",
    "* Variable fijas, prefijadas deben ir al principio del script y nombrarlas con mayusculas\n",
    "* typing en las funciones. Hay que anotar qué entra y que sale de la función.\n",
    "* No comentarios redundantes\n",
    "* siempre ingles\n",
    "* nombre de las funciones son acciones"
   ]
  },
  {
   "cell_type": "markdown",
   "metadata": {},
   "source": [
    "## Get the data"
   ]
  },
  {
   "cell_type": "code",
   "execution_count": 69,
   "metadata": {},
   "outputs": [],
   "source": [
    "import pandas as pd\n",
    "import matplotlib.pyplot as plt\n",
    "from pathlib import Path\n",
    "import json"
   ]
  },
  {
   "cell_type": "code",
   "execution_count": 70,
   "metadata": {},
   "outputs": [],
   "source": [
    "try:\n",
    "    # for pyhton file .py\n",
    "    PATH = Path(__file__).resolve().parent.parent\n",
    "except NameError:\n",
    "    #For Jupyter Notebook\n",
    "    PATH = Path().resolve().parent.parent\n",
    "\n",
    "with open(PATH / \"config.json\", \"r\") as f:\n",
    "        VARIABLES = json.load(f)\n",
    "\n",
    "# path of the folder with .parquet\n",
    "folder_path = Path(VARIABLES[\"file_path_CETIC\"])\n"
   ]
  },
  {
   "cell_type": "code",
   "execution_count": null,
   "metadata": {},
   "outputs": [
    {
     "name": "stdout",
     "output_type": "stream",
     "text": [
      "DataFrame: abandoned_carts\n",
      "DataFrame: inventory\n",
      "DataFrame: orders\n",
      "DataFrame: regulars\n",
      "DataFrame: users\n"
     ]
    }
   ],
   "source": [
    "# Browse the folder to save .parquet\n",
    "for file_path in folder_path.glob(\"*.parquet\"): \n",
    "    # create the name without the extension\n",
    "    file_name = file_path.stem\n",
    "    #sampled_datasets[file_name] = pd.read_parquet(file_path)\n",
    "    print(f\"DataFrame: {file_name}\")"
   ]
  },
  {
   "cell_type": "code",
   "execution_count": null,
   "metadata": {},
   "outputs": [],
   "source": [
    "abandoned_carts = pd.read_parquet(f\"{folder_path}/abandoned_carts.parquet\")\n",
    "inventory = pd.read_parquet(f\"{folder_path}/inventory.parquet\")\n",
    "orders = pd.read_parquet(f\"{folder_path}/orders.parquet\")\n",
    "regulars = pd.read_parquet(f\"{folder_path}/regulars.parquet\")\n",
    "users = pd.read_parquet(f\"{folder_path}/users.parquet\")"
   ]
  },
  {
   "cell_type": "markdown",
   "metadata": {},
   "source": [
    "### Function for initial check"
   ]
  },
  {
   "cell_type": "code",
   "execution_count": 78,
   "metadata": {},
   "outputs": [],
   "source": [
    "def get_initial_data_dataframe_column(column : pd.Series) -> None: \n",
    "    try:\n",
    "        is_null = column.isnull()\n",
    "        duplicated = column.duplicated()\n",
    "        column_types = column.apply(type).unique()\n",
    "\n",
    "        print(f\"///{column.name}///\")\n",
    "        print(column.info())\n",
    "        print(\"/////\")\n",
    "\n",
    "        print(f\"Total values: {column.count()}\")\n",
    "        print(f\"Number of null values: {is_null.sum()} is the {is_null.mean() * 100 :.2f}% of data\")\n",
    "        print(f\"Duplicates Values: {duplicated.sum()} is the {duplicated.mean() * 100 :.2f}% of data\")\n",
    "        print(f\"Number of types: {len(column_types)} types: {column_types}\")\n",
    "        if len(column_types) == 1:\n",
    "\n",
    "            if column_types == float or column_types == int:\n",
    "                print(f\"The mean: {column.mean()}\")\n",
    "                print(f\"The standard deviation: {column.std()}\")\n",
    "                print(f\"The min: {column.min()} The max: {column.max()} \")\n",
    "\n",
    "        print(f\"Number of values uniques: {len(column.unique())}\")\n",
    "        if len(column.unique()) < column.count()*0.50:\n",
    "            print(f\"The unique values : {column.unique() :.2f} \")\n",
    "        print(\"\\n\")\n",
    "    except:\n",
    "        print(\"Error\") "
   ]
  },
  {
   "cell_type": "markdown",
   "metadata": {},
   "source": [
    "## Checks initial to Tables"
   ]
  },
  {
   "cell_type": "markdown",
   "metadata": {},
   "source": [
    "### User"
   ]
  },
  {
   "cell_type": "markdown",
   "metadata": {},
   "source": [
    "users.parquet: Information about users.\n",
    "user_id : Nothing - No changes   \n",
    "user_segment: Two values, Top Up and Proposition, May be the categorization of pattern of shopping - No changes  \n",
    "user_nuts1: Values of regions, there are 51 values empty - No changes  \n",
    "*first_ordered_at: Change the type for pandas Timestamp  \n",
    "*customer_cohort_month: Change the type for pandas Timestamp \n",
    "\n",
    "Only 325 lines have the next data, might be a survey.  \n",
    "*count_people: there are 93% data empty, we can reemplace the values 0 and nan for 1 person. this way we are not invent data  \n",
    "*count_adults: this is very similar to count_people, we can delete  \n",
    "*count_children: The value Nan changes for 0  \n",
    "*count_babies: The value Nan changes for 0  \n",
    "*count_pets: The value Nan changes for 0  "
   ]
  },
  {
   "cell_type": "markdown",
   "metadata": {},
   "source": [
    "#### Checks"
   ]
  },
  {
   "cell_type": "code",
   "execution_count": 80,
   "metadata": {},
   "outputs": [
    {
     "name": "stdout",
     "output_type": "stream",
     "text": [
      "<class 'pandas.core.frame.DataFrame'>\n",
      "RangeIndex: 4983 entries, 0 to 4982\n",
      "Data columns (total 11 columns):\n",
      " #   Column                 Non-Null Count  Dtype  \n",
      "---  ------                 --------------  -----  \n",
      " 0   user_id                4983 non-null   object \n",
      " 1   user_segment           4983 non-null   object \n",
      " 2   user_nuts1             4932 non-null   object \n",
      " 3   first_ordered_at       4983 non-null   object \n",
      " 4   customer_cohort_month  4983 non-null   object \n",
      " 5   count_people           325 non-null    float64\n",
      " 6   count_adults           325 non-null    float64\n",
      " 7   count_children         325 non-null    float64\n",
      " 8   count_babies           325 non-null    float64\n",
      " 9   count_pets             325 non-null    float64\n",
      " 10  n_regulars             4983 non-null   float64\n",
      "dtypes: float64(6), object(5)\n",
      "memory usage: 428.4+ KB\n"
     ]
    }
   ],
   "source": [
    "users.info()"
   ]
  },
  {
   "cell_type": "code",
   "execution_count": null,
   "metadata": {},
   "outputs": [
    {
     "name": "stdout",
     "output_type": "stream",
     "text": [
      "///user_id///\n",
      "<class 'pandas.core.series.Series'>\n",
      "RangeIndex: 4983 entries, 0 to 4982\n",
      "Series name: user_id\n",
      "Non-Null Count  Dtype \n",
      "--------------  ----- \n",
      "4983 non-null   object\n",
      "dtypes: object(1)\n",
      "memory usage: 39.1+ KB\n",
      "None\n",
      "/////\n",
      "Total values: 4983\n",
      "Number of null values: 0 is the 0.00% of data\n",
      "Duplicates Values: 0 is the 0.00% of data\n",
      "Number of types: 1 types: [<class 'str'>]\n",
      "Number of values uniques: 4983\n",
      "\n",
      "\n",
      "///user_segment///\n",
      "<class 'pandas.core.series.Series'>\n",
      "RangeIndex: 4983 entries, 0 to 4982\n",
      "Series name: user_segment\n",
      "Non-Null Count  Dtype \n",
      "--------------  ----- \n",
      "4983 non-null   object\n",
      "dtypes: object(1)\n",
      "memory usage: 39.1+ KB\n",
      "None\n",
      "/////\n",
      "Total values: 4983\n",
      "Number of null values: 0 is the 0.00% of data\n",
      "Duplicates Values: 4981 is the 99.96% of data\n",
      "Number of types: 1 types: [<class 'str'>]\n",
      "Number of values uniques: 2\n",
      "Error\n",
      "///user_nuts1///\n",
      "<class 'pandas.core.series.Series'>\n",
      "RangeIndex: 4983 entries, 0 to 4982\n",
      "Series name: user_nuts1\n",
      "Non-Null Count  Dtype \n",
      "--------------  ----- \n",
      "4932 non-null   object\n",
      "dtypes: object(1)\n",
      "memory usage: 39.1+ KB\n",
      "None\n",
      "/////\n",
      "Total values: 4932\n",
      "Number of null values: 51 is the 1.02% of data\n",
      "Duplicates Values: 4970 is the 99.74% of data\n",
      "Number of types: 2 types: [<class 'str'> <class 'NoneType'>]\n",
      "Number of values uniques: 13\n",
      "Error\n",
      "///first_ordered_at///\n",
      "<class 'pandas.core.series.Series'>\n",
      "RangeIndex: 4983 entries, 0 to 4982\n",
      "Series name: first_ordered_at\n",
      "Non-Null Count  Dtype \n",
      "--------------  ----- \n",
      "4983 non-null   object\n",
      "dtypes: object(1)\n",
      "memory usage: 39.1+ KB\n",
      "None\n",
      "/////\n",
      "Total values: 4983\n",
      "Number of null values: 0 is the 0.00% of data\n",
      "Duplicates Values: 1 is the 0.02% of data\n",
      "Number of types: 1 types: [<class 'str'>]\n",
      "Number of values uniques: 4982\n",
      "\n",
      "\n",
      "///customer_cohort_month///\n",
      "<class 'pandas.core.series.Series'>\n",
      "RangeIndex: 4983 entries, 0 to 4982\n",
      "Series name: customer_cohort_month\n",
      "Non-Null Count  Dtype \n",
      "--------------  ----- \n",
      "4983 non-null   object\n",
      "dtypes: object(1)\n",
      "memory usage: 39.1+ KB\n",
      "None\n",
      "/////\n",
      "Total values: 4983\n",
      "Number of null values: 0 is the 0.00% of data\n",
      "Duplicates Values: 4959 is the 99.52% of data\n",
      "Number of types: 1 types: [<class 'str'>]\n",
      "Number of values uniques: 24\n",
      "Error\n",
      "///count_people///\n",
      "<class 'pandas.core.series.Series'>\n",
      "RangeIndex: 4983 entries, 0 to 4982\n",
      "Series name: count_people\n",
      "Non-Null Count  Dtype  \n",
      "--------------  -----  \n",
      "325 non-null    float64\n",
      "dtypes: float64(1)\n",
      "memory usage: 39.1 KB\n",
      "None\n",
      "/////\n",
      "Total values: 325\n",
      "Number of null values: 4658 is the 93.48% of data\n",
      "Duplicates Values: 4973 is the 99.80% of data\n",
      "Number of types: 1 types: [<class 'float'>]\n",
      "The mean: 2.787692307692308\n",
      "The standard deviation: 1.365752595438434\n",
      "The min: 0.0 The max: 8.0 \n",
      "Number of values uniques: 10\n",
      "Error\n",
      "///count_adults///\n",
      "<class 'pandas.core.series.Series'>\n",
      "RangeIndex: 4983 entries, 0 to 4982\n",
      "Series name: count_adults\n",
      "Non-Null Count  Dtype  \n",
      "--------------  -----  \n",
      "325 non-null    float64\n",
      "dtypes: float64(1)\n",
      "memory usage: 39.1 KB\n",
      "None\n",
      "/////\n",
      "Total values: 325\n",
      "Number of null values: 4658 is the 93.48% of data\n",
      "Duplicates Values: 4974 is the 99.82% of data\n",
      "Number of types: 1 types: [<class 'float'>]\n",
      "The mean: 2.003076923076923\n",
      "The standard deviation: 0.8695765307493122\n",
      "The min: 0.0 The max: 7.0 \n",
      "Number of values uniques: 9\n",
      "Error\n",
      "///count_children///\n",
      "<class 'pandas.core.series.Series'>\n",
      "RangeIndex: 4983 entries, 0 to 4982\n",
      "Series name: count_children\n",
      "Non-Null Count  Dtype  \n",
      "--------------  -----  \n",
      "325 non-null    float64\n",
      "dtypes: float64(1)\n",
      "memory usage: 39.1 KB\n",
      "None\n",
      "/////\n",
      "Total values: 325\n",
      "Number of null values: 4658 is the 93.48% of data\n",
      "Duplicates Values: 4975 is the 99.84% of data\n",
      "Number of types: 1 types: [<class 'float'>]\n",
      "The mean: 0.7076923076923077\n",
      "The standard deviation: 1.026246260170881\n",
      "The min: 0.0 The max: 6.0 \n",
      "Number of values uniques: 8\n",
      "Error\n",
      "///count_babies///\n",
      "<class 'pandas.core.series.Series'>\n",
      "RangeIndex: 4983 entries, 0 to 4982\n",
      "Series name: count_babies\n",
      "Non-Null Count  Dtype  \n",
      "--------------  -----  \n",
      "325 non-null    float64\n",
      "dtypes: float64(1)\n",
      "memory usage: 39.1 KB\n",
      "None\n",
      "/////\n",
      "Total values: 325\n",
      "Number of null values: 4658 is the 93.48% of data\n",
      "Duplicates Values: 4979 is the 99.92% of data\n",
      "Number of types: 1 types: [<class 'float'>]\n",
      "The mean: 0.07692307692307693\n",
      "The standard deviation: 0.2890860602613293\n",
      "The min: 0.0 The max: 2.0 \n",
      "Number of values uniques: 4\n",
      "Error\n",
      "///count_pets///\n",
      "<class 'pandas.core.series.Series'>\n",
      "RangeIndex: 4983 entries, 0 to 4982\n",
      "Series name: count_pets\n",
      "Non-Null Count  Dtype  \n",
      "--------------  -----  \n",
      "325 non-null    float64\n",
      "dtypes: float64(1)\n",
      "memory usage: 39.1 KB\n",
      "None\n",
      "/////\n",
      "Total values: 325\n",
      "Number of null values: 4658 is the 93.48% of data\n",
      "Duplicates Values: 4975 is the 99.84% of data\n",
      "Number of types: 1 types: [<class 'float'>]\n",
      "The mean: 0.6369230769230769\n",
      "The standard deviation: 0.9956028682286281\n",
      "The min: 0.0 The max: 6.0 \n",
      "Number of values uniques: 8\n",
      "Error\n",
      "///n_regulars///\n",
      "<class 'pandas.core.series.Series'>\n",
      "RangeIndex: 4983 entries, 0 to 4982\n",
      "Series name: n_regulars\n",
      "Non-Null Count  Dtype  \n",
      "--------------  -----  \n",
      "4983 non-null   float64\n",
      "dtypes: float64(1)\n",
      "memory usage: 39.1 KB\n",
      "None\n",
      "/////\n",
      "Total values: 4983\n",
      "Number of null values: 0 is the 0.00% of data\n",
      "Duplicates Values: 4916 is the 98.66% of data\n",
      "Number of types: 1 types: [<class 'float'>]\n",
      "The mean: 2.481436885410395\n",
      "The standard deviation: 8.890588270618071\n",
      "The min: 0.0 The max: 320.0 \n",
      "Number of values uniques: 67\n",
      "Error\n"
     ]
    }
   ],
   "source": [
    "#information about the columns\n",
    "for column in users:\n",
    "    get_initial_data_dataframe_column(users[column])"
   ]
  },
  {
   "cell_type": "markdown",
   "metadata": {},
   "source": [
    "### Abandoned_carts"
   ]
  },
  {
   "cell_type": "markdown",
   "metadata": {},
   "source": [
    "Abandoned_cart.parquet: If a user has added items to their basket but not bought them, we capture that information. Items that were abandoned are stored as a list in item_ids.\n",
    "\n",
    "id : Nothing\n",
    "\n",
    "user_id : Nothing\n",
    "\n",
    "created_at: Nothing\n",
    "\n",
    "variant_id: Nothing\n",
    "\n",
    "*Maybe Create a column with the numbers of products in the carts Len(variant_id)"
   ]
  },
  {
   "cell_type": "code",
   "execution_count": 28,
   "metadata": {},
   "outputs": [
    {
     "name": "stdout",
     "output_type": "stream",
     "text": [
      "<class 'pandas.core.frame.DataFrame'>\n",
      "Index: 5457 entries, 0 to 70050\n",
      "Data columns (total 4 columns):\n",
      " #   Column      Non-Null Count  Dtype         \n",
      "---  ------      --------------  -----         \n",
      " 0   id          5457 non-null   int64         \n",
      " 1   user_id     5457 non-null   object        \n",
      " 2   created_at  5457 non-null   datetime64[us]\n",
      " 3   variant_id  5457 non-null   object        \n",
      "dtypes: datetime64[us](1), int64(1), object(2)\n",
      "memory usage: 213.2+ KB\n"
     ]
    }
   ],
   "source": [
    "abandoned_carts.info()"
   ]
  },
  {
   "cell_type": "code",
   "execution_count": 30,
   "metadata": {},
   "outputs": [
    {
     "name": "stdout",
     "output_type": "stream",
     "text": [
      "//0        12858560217220\n",
      "13       20352449839236\n",
      "45       20478401413252\n",
      "50       20481783103620\n",
      "52       20485321687172\n",
      "              ...      \n",
      "70036    22233840976004\n",
      "70041    22233843171460\n",
      "70043    22233843531908\n",
      "70049    22233846218884\n",
      "70050    22233846317188\n",
      "Name: id, Length: 5457, dtype: int64//\n",
      "<class 'pandas.core.series.Series'>\n",
      "Index: 5457 entries, 0 to 70050\n",
      "Series name: id\n",
      "Non-Null Count  Dtype\n",
      "--------------  -----\n",
      "5457 non-null   int64\n",
      "dtypes: int64(1)\n",
      "memory usage: 85.3 KB\n",
      "None\n",
      "/////\n",
      "Total values: 5457\n",
      "Number of null values: 0 is the 0.00% of data\n",
      "Duplicates Values: 0 is the 0.00% of data\n",
      "Number of types: 1 types: [<class 'int'>]\n",
      "The mean: 21618808560053.117\n",
      "The standard deviation: 402867859962.06647\n",
      "The min: 12858560217220 The max: 22233846317188 \n",
      "Number of values uniques: 5457\n",
      "\n",
      "\n",
      "//0        5c4e5953f13ddc3bc9659a3453356155e5efe4739d7a2b...\n",
      "13       9d6187545c005d39e44d0456d87790db18611d7c7379bd...\n",
      "45       e83fb0273d70c37a2968fee107113698fd4f389c442c0b...\n",
      "50       10c42e10e530284b7c7c50f3a23a98726d5747b8128084...\n",
      "52       d9989439524b3f6fc4f41686d043f315fb408b954d6153...\n",
      "                               ...                        \n",
      "70036    2e989bfdec87ef55ea464a529f323ff53dad2a2fc48655...\n",
      "70041    b2d867b982b14ca517f27c4ced727c8a25c01b96ebbd96...\n",
      "70043    220aafc0749f209b3f0f7cfe4134a5136815d48f0bbd9a...\n",
      "70049    a4da55d51052411e54f98e1b90b19843121866abeaea76...\n",
      "70050    c0e740ecabe7bd19eaed35b5ea9be7bc80c15f32124712...\n",
      "Name: user_id, Length: 5457, dtype: object//\n",
      "<class 'pandas.core.series.Series'>\n",
      "Index: 5457 entries, 0 to 70050\n",
      "Series name: user_id\n",
      "Non-Null Count  Dtype \n",
      "--------------  ----- \n",
      "5457 non-null   object\n",
      "dtypes: object(1)\n",
      "memory usage: 85.3+ KB\n",
      "None\n",
      "/////\n",
      "Total values: 5457\n",
      "Number of null values: 0 is the 0.00% of data\n",
      "Duplicates Values: 2018 is the 36.98% of data\n",
      "Number of types: 1 types: [<class 'str'>]\n",
      "Number of values uniques: 3439\n",
      "\n",
      "\n",
      "//0       2020-05-20 13:53:24\n",
      "13      2021-06-27 05:24:13\n",
      "45      2021-07-18 08:23:49\n",
      "50      2021-07-18 21:29:36\n",
      "52      2021-07-19 12:17:05\n",
      "                ...        \n",
      "70036   2022-03-13 14:11:15\n",
      "70041   2022-03-13 14:11:36\n",
      "70043   2022-03-13 14:11:41\n",
      "70049   2022-03-13 14:12:09\n",
      "70050   2022-03-13 14:12:10\n",
      "Name: created_at, Length: 5457, dtype: datetime64[us]//\n",
      "<class 'pandas.core.series.Series'>\n",
      "Index: 5457 entries, 0 to 70050\n",
      "Series name: created_at\n",
      "Non-Null Count  Dtype         \n",
      "--------------  -----         \n",
      "5457 non-null   datetime64[us]\n",
      "dtypes: datetime64[us](1)\n",
      "memory usage: 85.3 KB\n",
      "None\n",
      "/////\n",
      "Total values: 5457\n",
      "Number of null values: 0 is the 0.00% of data\n",
      "Duplicates Values: 0 is the 0.00% of data\n",
      "Number of types: 1 types: [<class 'pandas._libs.tslibs.timestamps.Timestamp'>]\n",
      "Number of values uniques: 5457\n",
      "\n",
      "\n",
      "//0        [33826459287684, 33826457616516, 3366719212762...\n",
      "13       [34415988179076, 34037940158596, 3450282236326...\n",
      "45       [34543001337988, 34037939372164, 3411360609088...\n",
      "50       [33667268116612, 34037940224132, 3443605520397...\n",
      "52        [33667268083844, 34284950454404, 33973246886020]\n",
      "                               ...                        \n",
      "70036                     [34284950192260, 39466620911748]\n",
      "70041                     [39536607395972, 39506484461700]\n",
      "70043                     [39482337624196, 39544243650692]\n",
      "70049    [34415989325956, 33667297017988, 3948233762419...\n",
      "70050     [34284950519940, 39459281174660, 39482337558660]\n",
      "Name: variant_id, Length: 5457, dtype: object//\n",
      "<class 'pandas.core.series.Series'>\n",
      "Index: 5457 entries, 0 to 70050\n",
      "Series name: variant_id\n",
      "Non-Null Count  Dtype \n",
      "--------------  ----- \n",
      "5457 non-null   object\n",
      "dtypes: object(1)\n",
      "memory usage: 85.3+ KB\n",
      "None\n",
      "/////\n",
      "Total values: 5457\n",
      "Number of null values: 0 is the 0.00% of data\n",
      "Duplicates Values: 539 is the 9.88% of data\n",
      "Number of types: 1 types: [<class 'numpy.ndarray'>]\n",
      "Error\n"
     ]
    }
   ],
   "source": [
    "for column in abandoned_carts:\n",
    "    get_initial_data_dataframe_column(abandoned_carts[column])"
   ]
  },
  {
   "cell_type": "markdown",
   "metadata": {},
   "source": [
    "### Inventory"
   ]
  },
  {
   "cell_type": "markdown",
   "metadata": {},
   "source": [
    "inventory.parquet: Some information about each item_id\n",
    "\n",
    "variant_id: Nothing  \n",
    "price: There are 71 products without price, value zero  \n",
    "compare_at_price: There are 72 products without price, value zero  \n",
    "vendor: Nothing  \n",
    "product_type: Nothing  \n",
    "tags:  Nothing  "
   ]
  },
  {
   "cell_type": "code",
   "execution_count": 31,
   "metadata": {},
   "outputs": [
    {
     "name": "stdout",
     "output_type": "stream",
     "text": [
      "<class 'pandas.core.frame.DataFrame'>\n",
      "RangeIndex: 1733 entries, 0 to 1732\n",
      "Data columns (total 6 columns):\n",
      " #   Column            Non-Null Count  Dtype  \n",
      "---  ------            --------------  -----  \n",
      " 0   variant_id        1733 non-null   int64  \n",
      " 1   price             1733 non-null   float64\n",
      " 2   compare_at_price  1733 non-null   float64\n",
      " 3   vendor            1733 non-null   object \n",
      " 4   product_type      1733 non-null   object \n",
      " 5   tags              1733 non-null   object \n",
      "dtypes: float64(2), int64(1), object(3)\n",
      "memory usage: 81.4+ KB\n"
     ]
    }
   ],
   "source": [
    "inventory.info()"
   ]
  },
  {
   "cell_type": "code",
   "execution_count": 33,
   "metadata": {},
   "outputs": [
    {
     "name": "stdout",
     "output_type": "stream",
     "text": [
      "//0       39587297165444\n",
      "1       34370361229444\n",
      "2       34284951863428\n",
      "3       33667283583108\n",
      "4       33803537973380\n",
      "             ...      \n",
      "1728    39539419218052\n",
      "1729    34534187368580\n",
      "1730    33826439594116\n",
      "1731    33667214508164\n",
      "1732    33667214704772\n",
      "Name: variant_id, Length: 1733, dtype: int64//\n",
      "<class 'pandas.core.series.Series'>\n",
      "RangeIndex: 1733 entries, 0 to 1732\n",
      "Series name: variant_id\n",
      "Non-Null Count  Dtype\n",
      "--------------  -----\n",
      "1733 non-null   int64\n",
      "dtypes: int64(1)\n",
      "memory usage: 13.7 KB\n",
      "None\n",
      "/////\n",
      "Total values: 1733\n",
      "Number of null values: 0 is the 0.00% of data\n",
      "Duplicates Values: 0 is the 0.00% of data\n",
      "Number of types: 1 types: [<class 'int'>]\n",
      "The mean: 36948799362316.49\n",
      "The standard deviation: 2725674300769.723\n",
      "The min: 33615294398596 The max: 40167931707524 \n",
      "Number of values uniques: 1733\n",
      "\n",
      "\n",
      "//0        3.09\n",
      "1        4.99\n",
      "2        3.69\n",
      "3        1.79\n",
      "4        1.99\n",
      "        ...  \n",
      "1728     4.99\n",
      "1729     4.69\n",
      "1730    15.39\n",
      "1731    19.49\n",
      "1732    31.99\n",
      "Name: price, Length: 1733, dtype: float64//\n",
      "<class 'pandas.core.series.Series'>\n",
      "RangeIndex: 1733 entries, 0 to 1732\n",
      "Series name: price\n",
      "Non-Null Count  Dtype  \n",
      "--------------  -----  \n",
      "1733 non-null   float64\n",
      "dtypes: float64(1)\n",
      "memory usage: 13.7 KB\n",
      "None\n",
      "/////\n",
      "Total values: 1733\n",
      "Number of null values: 0 is the 0.00% of data\n",
      "Duplicates Values: 1554 is the 89.67% of data\n",
      "Number of types: 1 types: [<class 'float'>]\n",
      "The mean: 6.30735141373341\n",
      "The standard deviation: 7.107217663981021\n",
      "The min: 0.0 The max: 59.99 \n",
      "Number of values uniques: 179\n",
      "Error\n",
      "//0        3.15\n",
      "1        5.50\n",
      "2        3.99\n",
      "3        1.99\n",
      "4        2.09\n",
      "        ...  \n",
      "1728     5.99\n",
      "1729     5.49\n",
      "1730    17.15\n",
      "1731    21.65\n",
      "1732    34.60\n",
      "Name: compare_at_price, Length: 1733, dtype: float64//\n",
      "<class 'pandas.core.series.Series'>\n",
      "RangeIndex: 1733 entries, 0 to 1732\n",
      "Series name: compare_at_price\n",
      "Non-Null Count  Dtype  \n",
      "--------------  -----  \n",
      "1733 non-null   float64\n",
      "dtypes: float64(1)\n",
      "memory usage: 13.7 KB\n",
      "None\n",
      "/////\n",
      "Total values: 1733\n",
      "Number of null values: 0 is the 0.00% of data\n",
      "Duplicates Values: 1314 is the 75.82% of data\n",
      "Number of types: 1 types: [<class 'float'>]\n",
      "The mean: 7.028880553952684\n",
      "The standard deviation: 7.66054182519656\n",
      "The min: 0.0 The max: 60.0 \n",
      "Number of values uniques: 419\n",
      "Error\n",
      "//0                heinz\n",
      "1        whogivesacrap\n",
      "2               plenty\n",
      "3       thecheekypanda\n",
      "4              colgate\n",
      "             ...      \n",
      "1728            bother\n",
      "1729      tommeetippee\n",
      "1730            colief\n",
      "1731        enterosgel\n",
      "1732           eskimo3\n",
      "Name: vendor, Length: 1733, dtype: object//\n",
      "<class 'pandas.core.series.Series'>\n",
      "RangeIndex: 1733 entries, 0 to 1732\n",
      "Series name: vendor\n",
      "Non-Null Count  Dtype \n",
      "--------------  ----- \n",
      "1733 non-null   object\n",
      "dtypes: object(1)\n",
      "memory usage: 13.7+ KB\n",
      "None\n",
      "/////\n",
      "Total values: 1733\n",
      "Number of null values: 0 is the 0.00% of data\n",
      "Duplicates Values: 1321 is the 76.23% of data\n",
      "Number of types: 1 types: [<class 'str'>]\n",
      "Number of values uniques: 412\n",
      "Error\n",
      "//0                  condiments-dressings\n",
      "1       toilet-roll-kitchen-roll-tissue\n",
      "2       toilet-roll-kitchen-roll-tissue\n",
      "3       toilet-roll-kitchen-roll-tissue\n",
      "4                                dental\n",
      "                     ...               \n",
      "1728                                   \n",
      "1729                   baby-accessories\n",
      "1730                   baby-accessories\n",
      "1731               medicines-treatments\n",
      "1732             superfoods-supplements\n",
      "Name: product_type, Length: 1733, dtype: object//\n",
      "<class 'pandas.core.series.Series'>\n",
      "RangeIndex: 1733 entries, 0 to 1732\n",
      "Series name: product_type\n",
      "Non-Null Count  Dtype \n",
      "--------------  ----- \n",
      "1733 non-null   object\n",
      "dtypes: object(1)\n",
      "memory usage: 13.7+ KB\n",
      "None\n",
      "/////\n",
      "Total values: 1733\n",
      "Number of null values: 0 is the 0.00% of data\n",
      "Duplicates Values: 1674 is the 96.60% of data\n",
      "Number of types: 1 types: [<class 'str'>]\n",
      "Number of values uniques: 59\n",
      "Error\n",
      "//0                            [table-sauces, vegan]\n",
      "1                      [b-corp, eco, toilet-rolls]\n",
      "2                                   [kitchen-roll]\n",
      "3       [b-corp, cruelty-free, eco, tissue, vegan]\n",
      "4                             [dental-accessories]\n",
      "                           ...                    \n",
      "1728                          [household-sundries]\n",
      "1729                             [feeding-weaning]\n",
      "1730                             [feeding-weaning]\n",
      "1731                      [discontinue, first-aid]\n",
      "1732           [discontinue, vitamins-supplements]\n",
      "Name: tags, Length: 1733, dtype: object//\n",
      "<class 'pandas.core.series.Series'>\n",
      "RangeIndex: 1733 entries, 0 to 1732\n",
      "Series name: tags\n",
      "Non-Null Count  Dtype \n",
      "--------------  ----- \n",
      "1733 non-null   object\n",
      "dtypes: object(1)\n",
      "memory usage: 13.7+ KB\n",
      "None\n",
      "/////\n",
      "Total values: 1733\n",
      "Number of null values: 0 is the 0.00% of data\n",
      "Duplicates Values: 400 is the 23.08% of data\n",
      "Number of types: 1 types: [<class 'numpy.ndarray'>]\n",
      "Error\n"
     ]
    }
   ],
   "source": [
    "for column in inventory:\n",
    "    get_initial_data_dataframe_column(inventory[column])"
   ]
  },
  {
   "cell_type": "markdown",
   "metadata": {},
   "source": [
    "### Orders"
   ]
  },
  {
   "cell_type": "markdown",
   "metadata": {},
   "source": [
    "orders.parquet: An order history of customers. Each row is an order and the item_ids for the order are stored as a list in the item_ids column\n",
    "\n",
    "id : nothing  \n",
    "user_id : nothing  \n",
    "created_at: there is one order duplicate  \n",
    "order_date: nothing  \n",
    "user_order_seq: Nothing  \n",
    "ordered_items: Should create a other column with the number of items in the order  "
   ]
  },
  {
   "cell_type": "code",
   "execution_count": 35,
   "metadata": {},
   "outputs": [
    {
     "name": "stdout",
     "output_type": "stream",
     "text": [
      "<class 'pandas.core.frame.DataFrame'>\n",
      "Index: 8773 entries, 10 to 64538\n",
      "Data columns (total 6 columns):\n",
      " #   Column          Non-Null Count  Dtype         \n",
      "---  ------          --------------  -----         \n",
      " 0   id              8773 non-null   int64         \n",
      " 1   user_id         8773 non-null   object        \n",
      " 2   created_at      8773 non-null   datetime64[us]\n",
      " 3   order_date      8773 non-null   datetime64[us]\n",
      " 4   user_order_seq  8773 non-null   int64         \n",
      " 5   ordered_items   8773 non-null   object        \n",
      "dtypes: datetime64[us](2), int64(2), object(2)\n",
      "memory usage: 479.8+ KB\n"
     ]
    }
   ],
   "source": [
    "orders.info()"
   ]
  },
  {
   "cell_type": "code",
   "execution_count": 36,
   "metadata": {},
   "outputs": [
    {
     "data": {
      "text/html": [
       "<div>\n",
       "<style scoped>\n",
       "    .dataframe tbody tr th:only-of-type {\n",
       "        vertical-align: middle;\n",
       "    }\n",
       "\n",
       "    .dataframe tbody tr th {\n",
       "        vertical-align: top;\n",
       "    }\n",
       "\n",
       "    .dataframe thead th {\n",
       "        text-align: right;\n",
       "    }\n",
       "</style>\n",
       "<table border=\"1\" class=\"dataframe\">\n",
       "  <thead>\n",
       "    <tr style=\"text-align: right;\">\n",
       "      <th></th>\n",
       "      <th>id</th>\n",
       "      <th>user_id</th>\n",
       "      <th>created_at</th>\n",
       "      <th>order_date</th>\n",
       "      <th>user_order_seq</th>\n",
       "      <th>ordered_items</th>\n",
       "    </tr>\n",
       "  </thead>\n",
       "  <tbody>\n",
       "    <tr>\n",
       "      <th>10</th>\n",
       "      <td>2204073066628</td>\n",
       "      <td>62e271062eb827e411bd73941178d29b022f5f2de9d37f...</td>\n",
       "      <td>2020-04-30 14:32:19</td>\n",
       "      <td>2020-04-30</td>\n",
       "      <td>1</td>\n",
       "      <td>[33618849693828, 33618860179588, 3361887404045...</td>\n",
       "    </tr>\n",
       "    <tr>\n",
       "      <th>20</th>\n",
       "      <td>2204707520644</td>\n",
       "      <td>bf591c887c46d5d3513142b6a855dd7ffb9cc00697f6f5...</td>\n",
       "      <td>2020-04-30 17:39:00</td>\n",
       "      <td>2020-04-30</td>\n",
       "      <td>1</td>\n",
       "      <td>[33618835243140, 33618835964036, 3361886244058...</td>\n",
       "    </tr>\n",
       "    <tr>\n",
       "      <th>21</th>\n",
       "      <td>2204838822020</td>\n",
       "      <td>329f08c66abb51f8c0b8a9526670da2d94c0c6eef06700...</td>\n",
       "      <td>2020-04-30 18:12:30</td>\n",
       "      <td>2020-04-30</td>\n",
       "      <td>1</td>\n",
       "      <td>[33618891145348, 33618893570180, 3361889766618...</td>\n",
       "    </tr>\n",
       "    <tr>\n",
       "      <th>34</th>\n",
       "      <td>2208967852164</td>\n",
       "      <td>f6451fce7b1c58d0effbe37fcb4e67b718193562766470...</td>\n",
       "      <td>2020-05-01 19:44:11</td>\n",
       "      <td>2020-05-01</td>\n",
       "      <td>1</td>\n",
       "      <td>[33618830196868, 33618846580868, 3361891234624...</td>\n",
       "    </tr>\n",
       "    <tr>\n",
       "      <th>49</th>\n",
       "      <td>2215889436804</td>\n",
       "      <td>68e872ff888303bff58ec56a3a986f77ddebdbe5c279e7...</td>\n",
       "      <td>2020-05-03 21:56:14</td>\n",
       "      <td>2020-05-03</td>\n",
       "      <td>1</td>\n",
       "      <td>[33667166699652, 33667166699652, 3366717122163...</td>\n",
       "    </tr>\n",
       "    <tr>\n",
       "      <th>...</th>\n",
       "      <td>...</td>\n",
       "      <td>...</td>\n",
       "      <td>...</td>\n",
       "      <td>...</td>\n",
       "      <td>...</td>\n",
       "      <td>...</td>\n",
       "    </tr>\n",
       "    <tr>\n",
       "      <th>64396</th>\n",
       "      <td>4026096910468</td>\n",
       "      <td>f524eaf26b76bc6226747768f120ffcd23d5c3d52a0a19...</td>\n",
       "      <td>2022-03-13 10:14:22</td>\n",
       "      <td>2022-03-13</td>\n",
       "      <td>5</td>\n",
       "      <td>[33981947707524, 34284951273604, 3428495127360...</td>\n",
       "    </tr>\n",
       "    <tr>\n",
       "      <th>64488</th>\n",
       "      <td>4026464993412</td>\n",
       "      <td>aa5e21db3186dcd84c161719c5ade8a19adb853ea8bfef...</td>\n",
       "      <td>2022-03-13 18:30:31</td>\n",
       "      <td>2022-03-13</td>\n",
       "      <td>3</td>\n",
       "      <td>[33803540725892, 34284950519940, 3437091504141...</td>\n",
       "    </tr>\n",
       "    <tr>\n",
       "      <th>64499</th>\n",
       "      <td>4026553434244</td>\n",
       "      <td>14be3833c19e0a1fd7e6db0e5375a3d1dcc9efafcb0e69...</td>\n",
       "      <td>2022-03-13 20:11:50</td>\n",
       "      <td>2022-03-13</td>\n",
       "      <td>11</td>\n",
       "      <td>[39283356663940, 39283356663940, 4015514504410...</td>\n",
       "    </tr>\n",
       "    <tr>\n",
       "      <th>64523</th>\n",
       "      <td>4026656030852</td>\n",
       "      <td>500027bf392bfa9ef527919569fba44904d429155b7cf4...</td>\n",
       "      <td>2022-03-13 22:29:24</td>\n",
       "      <td>2022-03-13</td>\n",
       "      <td>4</td>\n",
       "      <td>[33824368033924, 33824368033924, 3382436803392...</td>\n",
       "    </tr>\n",
       "    <tr>\n",
       "      <th>64538</th>\n",
       "      <td>4026732413060</td>\n",
       "      <td>faaad4bc113fe7e0a888a0d3535877d3c692f591882c25...</td>\n",
       "      <td>2022-03-14 00:24:59</td>\n",
       "      <td>2022-03-14</td>\n",
       "      <td>3</td>\n",
       "      <td>[33826472558724, 34037939437700, 3428495186342...</td>\n",
       "    </tr>\n",
       "  </tbody>\n",
       "</table>\n",
       "<p>8773 rows × 6 columns</p>\n",
       "</div>"
      ],
      "text/plain": [
       "                  id                                            user_id  \\\n",
       "10     2204073066628  62e271062eb827e411bd73941178d29b022f5f2de9d37f...   \n",
       "20     2204707520644  bf591c887c46d5d3513142b6a855dd7ffb9cc00697f6f5...   \n",
       "21     2204838822020  329f08c66abb51f8c0b8a9526670da2d94c0c6eef06700...   \n",
       "34     2208967852164  f6451fce7b1c58d0effbe37fcb4e67b718193562766470...   \n",
       "49     2215889436804  68e872ff888303bff58ec56a3a986f77ddebdbe5c279e7...   \n",
       "...              ...                                                ...   \n",
       "64396  4026096910468  f524eaf26b76bc6226747768f120ffcd23d5c3d52a0a19...   \n",
       "64488  4026464993412  aa5e21db3186dcd84c161719c5ade8a19adb853ea8bfef...   \n",
       "64499  4026553434244  14be3833c19e0a1fd7e6db0e5375a3d1dcc9efafcb0e69...   \n",
       "64523  4026656030852  500027bf392bfa9ef527919569fba44904d429155b7cf4...   \n",
       "64538  4026732413060  faaad4bc113fe7e0a888a0d3535877d3c692f591882c25...   \n",
       "\n",
       "               created_at order_date  user_order_seq  \\\n",
       "10    2020-04-30 14:32:19 2020-04-30               1   \n",
       "20    2020-04-30 17:39:00 2020-04-30               1   \n",
       "21    2020-04-30 18:12:30 2020-04-30               1   \n",
       "34    2020-05-01 19:44:11 2020-05-01               1   \n",
       "49    2020-05-03 21:56:14 2020-05-03               1   \n",
       "...                   ...        ...             ...   \n",
       "64396 2022-03-13 10:14:22 2022-03-13               5   \n",
       "64488 2022-03-13 18:30:31 2022-03-13               3   \n",
       "64499 2022-03-13 20:11:50 2022-03-13              11   \n",
       "64523 2022-03-13 22:29:24 2022-03-13               4   \n",
       "64538 2022-03-14 00:24:59 2022-03-14               3   \n",
       "\n",
       "                                           ordered_items  \n",
       "10     [33618849693828, 33618860179588, 3361887404045...  \n",
       "20     [33618835243140, 33618835964036, 3361886244058...  \n",
       "21     [33618891145348, 33618893570180, 3361889766618...  \n",
       "34     [33618830196868, 33618846580868, 3361891234624...  \n",
       "49     [33667166699652, 33667166699652, 3366717122163...  \n",
       "...                                                  ...  \n",
       "64396  [33981947707524, 34284951273604, 3428495127360...  \n",
       "64488  [33803540725892, 34284950519940, 3437091504141...  \n",
       "64499  [39283356663940, 39283356663940, 4015514504410...  \n",
       "64523  [33824368033924, 33824368033924, 3382436803392...  \n",
       "64538  [33826472558724, 34037939437700, 3428495186342...  \n",
       "\n",
       "[8773 rows x 6 columns]"
      ]
     },
     "execution_count": 36,
     "metadata": {},
     "output_type": "execute_result"
    }
   ],
   "source": [
    "orders"
   ]
  },
  {
   "cell_type": "code",
   "execution_count": 37,
   "metadata": {},
   "outputs": [
    {
     "name": "stdout",
     "output_type": "stream",
     "text": [
      "//10       2204073066628\n",
      "20       2204707520644\n",
      "21       2204838822020\n",
      "34       2208967852164\n",
      "49       2215889436804\n",
      "             ...      \n",
      "64396    4026096910468\n",
      "64488    4026464993412\n",
      "64499    4026553434244\n",
      "64523    4026656030852\n",
      "64538    4026732413060\n",
      "Name: id, Length: 8773, dtype: int64//\n",
      "<class 'pandas.core.series.Series'>\n",
      "Index: 8773 entries, 10 to 64538\n",
      "Series name: id\n",
      "Non-Null Count  Dtype\n",
      "--------------  -----\n",
      "8773 non-null   int64\n",
      "dtypes: int64(1)\n",
      "memory usage: 137.1 KB\n",
      "None\n",
      "/////\n",
      "Total values: 8773\n",
      "Number of null values: 0 is the 0.00% of data\n",
      "Duplicates Values: 0 is the 0.00% of data\n",
      "Number of types: 1 types: [<class 'int'>]\n",
      "The mean: 3684683902139.2095\n",
      "The standard deviation: 414543651600.97345\n",
      "The min: 2204073066628 The max: 4026732413060 \n",
      "Number of values uniques: 8773\n",
      "\n",
      "\n",
      "//10       62e271062eb827e411bd73941178d29b022f5f2de9d37f...\n",
      "20       bf591c887c46d5d3513142b6a855dd7ffb9cc00697f6f5...\n",
      "21       329f08c66abb51f8c0b8a9526670da2d94c0c6eef06700...\n",
      "34       f6451fce7b1c58d0effbe37fcb4e67b718193562766470...\n",
      "49       68e872ff888303bff58ec56a3a986f77ddebdbe5c279e7...\n",
      "                               ...                        \n",
      "64396    f524eaf26b76bc6226747768f120ffcd23d5c3d52a0a19...\n",
      "64488    aa5e21db3186dcd84c161719c5ade8a19adb853ea8bfef...\n",
      "64499    14be3833c19e0a1fd7e6db0e5375a3d1dcc9efafcb0e69...\n",
      "64523    500027bf392bfa9ef527919569fba44904d429155b7cf4...\n",
      "64538    faaad4bc113fe7e0a888a0d3535877d3c692f591882c25...\n",
      "Name: user_id, Length: 8773, dtype: object//\n",
      "<class 'pandas.core.series.Series'>\n",
      "Index: 8773 entries, 10 to 64538\n",
      "Series name: user_id\n",
      "Non-Null Count  Dtype \n",
      "--------------  ----- \n",
      "8773 non-null   object\n",
      "dtypes: object(1)\n",
      "memory usage: 137.1+ KB\n",
      "None\n",
      "/////\n",
      "Total values: 8773\n",
      "Number of null values: 0 is the 0.00% of data\n",
      "Duplicates Values: 3790 is the 43.20% of data\n",
      "Number of types: 1 types: [<class 'str'>]\n",
      "Number of values uniques: 4983\n",
      "\n",
      "\n",
      "//10      2020-04-30 14:32:19\n",
      "20      2020-04-30 17:39:00\n",
      "21      2020-04-30 18:12:30\n",
      "34      2020-05-01 19:44:11\n",
      "49      2020-05-03 21:56:14\n",
      "                ...        \n",
      "64396   2022-03-13 10:14:22\n",
      "64488   2022-03-13 18:30:31\n",
      "64499   2022-03-13 20:11:50\n",
      "64523   2022-03-13 22:29:24\n",
      "64538   2022-03-14 00:24:59\n",
      "Name: created_at, Length: 8773, dtype: datetime64[us]//\n",
      "<class 'pandas.core.series.Series'>\n",
      "Index: 8773 entries, 10 to 64538\n",
      "Series name: created_at\n",
      "Non-Null Count  Dtype         \n",
      "--------------  -----         \n",
      "8773 non-null   datetime64[us]\n",
      "dtypes: datetime64[us](1)\n",
      "memory usage: 137.1 KB\n",
      "None\n",
      "/////\n",
      "Total values: 8773\n",
      "Number of null values: 0 is the 0.00% of data\n",
      "Duplicates Values: 1 is the 0.01% of data\n",
      "Number of types: 1 types: [<class 'pandas._libs.tslibs.timestamps.Timestamp'>]\n",
      "Number of values uniques: 8772\n",
      "\n",
      "\n",
      "//10      2020-04-30\n",
      "20      2020-04-30\n",
      "21      2020-04-30\n",
      "34      2020-05-01\n",
      "49      2020-05-03\n",
      "           ...    \n",
      "64396   2022-03-13\n",
      "64488   2022-03-13\n",
      "64499   2022-03-13\n",
      "64523   2022-03-13\n",
      "64538   2022-03-14\n",
      "Name: order_date, Length: 8773, dtype: datetime64[us]//\n",
      "<class 'pandas.core.series.Series'>\n",
      "Index: 8773 entries, 10 to 64538\n",
      "Series name: order_date\n",
      "Non-Null Count  Dtype         \n",
      "--------------  -----         \n",
      "8773 non-null   datetime64[us]\n",
      "dtypes: datetime64[us](1)\n",
      "memory usage: 137.1 KB\n",
      "None\n",
      "/////\n",
      "Total values: 8773\n",
      "Number of null values: 0 is the 0.00% of data\n",
      "Duplicates Values: 8120 is the 92.56% of data\n",
      "Number of types: 1 types: [<class 'pandas._libs.tslibs.timestamps.Timestamp'>]\n",
      "Number of values uniques: 653\n",
      "Error\n",
      "//10        1\n",
      "20        1\n",
      "21        1\n",
      "34        1\n",
      "49        1\n",
      "         ..\n",
      "64396     5\n",
      "64488     3\n",
      "64499    11\n",
      "64523     4\n",
      "64538     3\n",
      "Name: user_order_seq, Length: 8773, dtype: int64//\n",
      "<class 'pandas.core.series.Series'>\n",
      "Index: 8773 entries, 10 to 64538\n",
      "Series name: user_order_seq\n",
      "Non-Null Count  Dtype\n",
      "--------------  -----\n",
      "8773 non-null   int64\n",
      "dtypes: int64(1)\n",
      "memory usage: 137.1 KB\n",
      "None\n",
      "/////\n",
      "Total values: 8773\n",
      "Number of null values: 0 is the 0.00% of data\n",
      "Duplicates Values: 8748 is the 99.72% of data\n",
      "Number of types: 1 types: [<class 'int'>]\n",
      "The mean: 2.445115695885102\n",
      "The standard deviation: 2.707693334341481\n",
      "The min: 1 The max: 25 \n",
      "Number of values uniques: 25\n",
      "Error\n",
      "//10       [33618849693828, 33618860179588, 3361887404045...\n",
      "20       [33618835243140, 33618835964036, 3361886244058...\n",
      "21       [33618891145348, 33618893570180, 3361889766618...\n",
      "34       [33618830196868, 33618846580868, 3361891234624...\n",
      "49       [33667166699652, 33667166699652, 3366717122163...\n",
      "                               ...                        \n",
      "64396    [33981947707524, 34284951273604, 3428495127360...\n",
      "64488    [33803540725892, 34284950519940, 3437091504141...\n",
      "64499    [39283356663940, 39283356663940, 4015514504410...\n",
      "64523    [33824368033924, 33824368033924, 3382436803392...\n",
      "64538    [33826472558724, 34037939437700, 3428495186342...\n",
      "Name: ordered_items, Length: 8773, dtype: object//\n",
      "<class 'pandas.core.series.Series'>\n",
      "Index: 8773 entries, 10 to 64538\n",
      "Series name: ordered_items\n",
      "Non-Null Count  Dtype \n",
      "--------------  ----- \n",
      "8773 non-null   object\n",
      "dtypes: object(1)\n",
      "memory usage: 137.1+ KB\n",
      "None\n",
      "/////\n",
      "Total values: 8773\n",
      "Number of null values: 0 is the 0.00% of data\n",
      "Duplicates Values: 0 is the 0.00% of data\n",
      "Number of types: 1 types: [<class 'numpy.ndarray'>]\n",
      "Error\n"
     ]
    }
   ],
   "source": [
    "for column in orders:\n",
    "    get_initial_data_dataframe_column(orders[column])"
   ]
  },
  {
   "cell_type": "code",
   "execution_count": 38,
   "metadata": {},
   "outputs": [
    {
     "data": {
      "text/html": [
       "<div>\n",
       "<style scoped>\n",
       "    .dataframe tbody tr th:only-of-type {\n",
       "        vertical-align: middle;\n",
       "    }\n",
       "\n",
       "    .dataframe tbody tr th {\n",
       "        vertical-align: top;\n",
       "    }\n",
       "\n",
       "    .dataframe thead th {\n",
       "        text-align: right;\n",
       "    }\n",
       "</style>\n",
       "<table border=\"1\" class=\"dataframe\">\n",
       "  <thead>\n",
       "    <tr style=\"text-align: right;\">\n",
       "      <th></th>\n",
       "      <th>user_order_seq</th>\n",
       "      <th>ordered_items</th>\n",
       "    </tr>\n",
       "  </thead>\n",
       "  <tbody>\n",
       "    <tr>\n",
       "      <th>10</th>\n",
       "      <td>1</td>\n",
       "      <td>[33618849693828, 33618860179588, 3361887404045...</td>\n",
       "    </tr>\n",
       "    <tr>\n",
       "      <th>20</th>\n",
       "      <td>1</td>\n",
       "      <td>[33618835243140, 33618835964036, 3361886244058...</td>\n",
       "    </tr>\n",
       "    <tr>\n",
       "      <th>21</th>\n",
       "      <td>1</td>\n",
       "      <td>[33618891145348, 33618893570180, 3361889766618...</td>\n",
       "    </tr>\n",
       "    <tr>\n",
       "      <th>34</th>\n",
       "      <td>1</td>\n",
       "      <td>[33618830196868, 33618846580868, 3361891234624...</td>\n",
       "    </tr>\n",
       "    <tr>\n",
       "      <th>49</th>\n",
       "      <td>1</td>\n",
       "      <td>[33667166699652, 33667166699652, 3366717122163...</td>\n",
       "    </tr>\n",
       "    <tr>\n",
       "      <th>...</th>\n",
       "      <td>...</td>\n",
       "      <td>...</td>\n",
       "    </tr>\n",
       "    <tr>\n",
       "      <th>64396</th>\n",
       "      <td>5</td>\n",
       "      <td>[33981947707524, 34284951273604, 3428495127360...</td>\n",
       "    </tr>\n",
       "    <tr>\n",
       "      <th>64488</th>\n",
       "      <td>3</td>\n",
       "      <td>[33803540725892, 34284950519940, 3437091504141...</td>\n",
       "    </tr>\n",
       "    <tr>\n",
       "      <th>64499</th>\n",
       "      <td>11</td>\n",
       "      <td>[39283356663940, 39283356663940, 4015514504410...</td>\n",
       "    </tr>\n",
       "    <tr>\n",
       "      <th>64523</th>\n",
       "      <td>4</td>\n",
       "      <td>[33824368033924, 33824368033924, 3382436803392...</td>\n",
       "    </tr>\n",
       "    <tr>\n",
       "      <th>64538</th>\n",
       "      <td>3</td>\n",
       "      <td>[33826472558724, 34037939437700, 3428495186342...</td>\n",
       "    </tr>\n",
       "  </tbody>\n",
       "</table>\n",
       "<p>8773 rows × 2 columns</p>\n",
       "</div>"
      ],
      "text/plain": [
       "       user_order_seq                                      ordered_items\n",
       "10                  1  [33618849693828, 33618860179588, 3361887404045...\n",
       "20                  1  [33618835243140, 33618835964036, 3361886244058...\n",
       "21                  1  [33618891145348, 33618893570180, 3361889766618...\n",
       "34                  1  [33618830196868, 33618846580868, 3361891234624...\n",
       "49                  1  [33667166699652, 33667166699652, 3366717122163...\n",
       "...               ...                                                ...\n",
       "64396               5  [33981947707524, 34284951273604, 3428495127360...\n",
       "64488               3  [33803540725892, 34284950519940, 3437091504141...\n",
       "64499              11  [39283356663940, 39283356663940, 4015514504410...\n",
       "64523               4  [33824368033924, 33824368033924, 3382436803392...\n",
       "64538               3  [33826472558724, 34037939437700, 3428495186342...\n",
       "\n",
       "[8773 rows x 2 columns]"
      ]
     },
     "execution_count": 38,
     "metadata": {},
     "output_type": "execute_result"
    }
   ],
   "source": [
    "orders[[\"user_order_seq\",\"ordered_items\"]]"
   ]
  },
  {
   "cell_type": "markdown",
   "metadata": {},
   "source": [
    "### Regulars"
   ]
  },
  {
   "cell_type": "markdown",
   "metadata": {},
   "source": [
    "regulars.parquet: Users are allowed to specify items that they wish to buy regularly. This data gives the items each user has asked to get regularly, along with when they input that information\n",
    "\n",
    "user_id: Nothing  \n",
    "variant_id: Should create a other column with number of variant  \n",
    "created_at: Nothing"
   ]
  },
  {
   "cell_type": "code",
   "execution_count": 39,
   "metadata": {},
   "outputs": [
    {
     "name": "stdout",
     "output_type": "stream",
     "text": [
      "<class 'pandas.core.frame.DataFrame'>\n",
      "Index: 18105 entries, 3 to 37720\n",
      "Data columns (total 3 columns):\n",
      " #   Column      Non-Null Count  Dtype         \n",
      "---  ------      --------------  -----         \n",
      " 0   user_id     18105 non-null  object        \n",
      " 1   variant_id  18105 non-null  int64         \n",
      " 2   created_at  18105 non-null  datetime64[us]\n",
      "dtypes: datetime64[us](1), int64(1), object(1)\n",
      "memory usage: 565.8+ KB\n"
     ]
    }
   ],
   "source": [
    "regulars.info()"
   ]
  },
  {
   "cell_type": "code",
   "execution_count": 40,
   "metadata": {},
   "outputs": [
    {
     "data": {
      "text/html": [
       "<div>\n",
       "<style scoped>\n",
       "    .dataframe tbody tr th:only-of-type {\n",
       "        vertical-align: middle;\n",
       "    }\n",
       "\n",
       "    .dataframe tbody tr th {\n",
       "        vertical-align: top;\n",
       "    }\n",
       "\n",
       "    .dataframe thead th {\n",
       "        text-align: right;\n",
       "    }\n",
       "</style>\n",
       "<table border=\"1\" class=\"dataframe\">\n",
       "  <thead>\n",
       "    <tr style=\"text-align: right;\">\n",
       "      <th></th>\n",
       "      <th>user_id</th>\n",
       "      <th>variant_id</th>\n",
       "      <th>created_at</th>\n",
       "    </tr>\n",
       "  </thead>\n",
       "  <tbody>\n",
       "    <tr>\n",
       "      <th>3</th>\n",
       "      <td>68e872ff888303bff58ec56a3a986f77ddebdbe5c279e7...</td>\n",
       "      <td>33618848088196</td>\n",
       "      <td>2020-04-30 15:07:03</td>\n",
       "    </tr>\n",
       "    <tr>\n",
       "      <th>11</th>\n",
       "      <td>aed88fc0b004270a62ff1fe4b94141f6b1db1496dbb0c0...</td>\n",
       "      <td>33667178659972</td>\n",
       "      <td>2020-05-05 23:34:35</td>\n",
       "    </tr>\n",
       "    <tr>\n",
       "      <th>18</th>\n",
       "      <td>68e872ff888303bff58ec56a3a986f77ddebdbe5c279e7...</td>\n",
       "      <td>33619009208452</td>\n",
       "      <td>2020-04-30 15:07:03</td>\n",
       "    </tr>\n",
       "    <tr>\n",
       "      <th>46</th>\n",
       "      <td>aed88fc0b004270a62ff1fe4b94141f6b1db1496dbb0c0...</td>\n",
       "      <td>33667305373828</td>\n",
       "      <td>2020-05-05 23:34:35</td>\n",
       "    </tr>\n",
       "    <tr>\n",
       "      <th>47</th>\n",
       "      <td>4594e99557113d5a1c5b59bf31b8704aafe5c7bd180b32...</td>\n",
       "      <td>33667247341700</td>\n",
       "      <td>2020-05-06 14:42:11</td>\n",
       "    </tr>\n",
       "    <tr>\n",
       "      <th>...</th>\n",
       "      <td>...</td>\n",
       "      <td>...</td>\n",
       "      <td>...</td>\n",
       "    </tr>\n",
       "    <tr>\n",
       "      <th>37644</th>\n",
       "      <td>20a41b8fa616484b39812aaa377ea1b53247f6941c0586...</td>\n",
       "      <td>39265878999172</td>\n",
       "      <td>2022-03-13 16:02:13</td>\n",
       "    </tr>\n",
       "    <tr>\n",
       "      <th>37717</th>\n",
       "      <td>ba068a3398230c10a98868ced1fcc5b889b21e6f112fd0...</td>\n",
       "      <td>39459281272964</td>\n",
       "      <td>2022-03-14 07:49:24</td>\n",
       "    </tr>\n",
       "    <tr>\n",
       "      <th>37718</th>\n",
       "      <td>ba068a3398230c10a98868ced1fcc5b889b21e6f112fd0...</td>\n",
       "      <td>33973246951556</td>\n",
       "      <td>2022-03-14 07:49:24</td>\n",
       "    </tr>\n",
       "    <tr>\n",
       "      <th>37719</th>\n",
       "      <td>ba068a3398230c10a98868ced1fcc5b889b21e6f112fd0...</td>\n",
       "      <td>39587297656964</td>\n",
       "      <td>2022-03-14 07:49:24</td>\n",
       "    </tr>\n",
       "    <tr>\n",
       "      <th>37720</th>\n",
       "      <td>ba068a3398230c10a98868ced1fcc5b889b21e6f112fd0...</td>\n",
       "      <td>34415987753092</td>\n",
       "      <td>2022-03-14 07:49:24</td>\n",
       "    </tr>\n",
       "  </tbody>\n",
       "</table>\n",
       "<p>18105 rows × 3 columns</p>\n",
       "</div>"
      ],
      "text/plain": [
       "                                                 user_id      variant_id  \\\n",
       "3      68e872ff888303bff58ec56a3a986f77ddebdbe5c279e7...  33618848088196   \n",
       "11     aed88fc0b004270a62ff1fe4b94141f6b1db1496dbb0c0...  33667178659972   \n",
       "18     68e872ff888303bff58ec56a3a986f77ddebdbe5c279e7...  33619009208452   \n",
       "46     aed88fc0b004270a62ff1fe4b94141f6b1db1496dbb0c0...  33667305373828   \n",
       "47     4594e99557113d5a1c5b59bf31b8704aafe5c7bd180b32...  33667247341700   \n",
       "...                                                  ...             ...   \n",
       "37644  20a41b8fa616484b39812aaa377ea1b53247f6941c0586...  39265878999172   \n",
       "37717  ba068a3398230c10a98868ced1fcc5b889b21e6f112fd0...  39459281272964   \n",
       "37718  ba068a3398230c10a98868ced1fcc5b889b21e6f112fd0...  33973246951556   \n",
       "37719  ba068a3398230c10a98868ced1fcc5b889b21e6f112fd0...  39587297656964   \n",
       "37720  ba068a3398230c10a98868ced1fcc5b889b21e6f112fd0...  34415987753092   \n",
       "\n",
       "               created_at  \n",
       "3     2020-04-30 15:07:03  \n",
       "11    2020-05-05 23:34:35  \n",
       "18    2020-04-30 15:07:03  \n",
       "46    2020-05-05 23:34:35  \n",
       "47    2020-05-06 14:42:11  \n",
       "...                   ...  \n",
       "37644 2022-03-13 16:02:13  \n",
       "37717 2022-03-14 07:49:24  \n",
       "37718 2022-03-14 07:49:24  \n",
       "37719 2022-03-14 07:49:24  \n",
       "37720 2022-03-14 07:49:24  \n",
       "\n",
       "[18105 rows x 3 columns]"
      ]
     },
     "execution_count": 40,
     "metadata": {},
     "output_type": "execute_result"
    }
   ],
   "source": [
    "regulars"
   ]
  },
  {
   "cell_type": "code",
   "execution_count": 41,
   "metadata": {},
   "outputs": [
    {
     "name": "stdout",
     "output_type": "stream",
     "text": [
      "//3        68e872ff888303bff58ec56a3a986f77ddebdbe5c279e7...\n",
      "11       aed88fc0b004270a62ff1fe4b94141f6b1db1496dbb0c0...\n",
      "18       68e872ff888303bff58ec56a3a986f77ddebdbe5c279e7...\n",
      "46       aed88fc0b004270a62ff1fe4b94141f6b1db1496dbb0c0...\n",
      "47       4594e99557113d5a1c5b59bf31b8704aafe5c7bd180b32...\n",
      "                               ...                        \n",
      "37644    20a41b8fa616484b39812aaa377ea1b53247f6941c0586...\n",
      "37717    ba068a3398230c10a98868ced1fcc5b889b21e6f112fd0...\n",
      "37718    ba068a3398230c10a98868ced1fcc5b889b21e6f112fd0...\n",
      "37719    ba068a3398230c10a98868ced1fcc5b889b21e6f112fd0...\n",
      "37720    ba068a3398230c10a98868ced1fcc5b889b21e6f112fd0...\n",
      "Name: user_id, Length: 18105, dtype: object//\n",
      "<class 'pandas.core.series.Series'>\n",
      "Index: 18105 entries, 3 to 37720\n",
      "Series name: user_id\n",
      "Non-Null Count  Dtype \n",
      "--------------  ----- \n",
      "18105 non-null  object\n",
      "dtypes: object(1)\n",
      "memory usage: 282.9+ KB\n",
      "None\n",
      "/////\n",
      "Total values: 18105\n",
      "Number of null values: 0 is the 0.00% of data\n",
      "Duplicates Values: 16657 is the 92.00% of data\n",
      "Number of types: 1 types: [<class 'str'>]\n",
      "Number of values uniques: 1448\n",
      "Error\n",
      "//3        33618848088196\n",
      "11       33667178659972\n",
      "18       33619009208452\n",
      "46       33667305373828\n",
      "47       33667247341700\n",
      "              ...      \n",
      "37644    39265878999172\n",
      "37717    39459281272964\n",
      "37718    33973246951556\n",
      "37719    39587297656964\n",
      "37720    34415987753092\n",
      "Name: variant_id, Length: 18105, dtype: int64//\n",
      "<class 'pandas.core.series.Series'>\n",
      "Index: 18105 entries, 3 to 37720\n",
      "Series name: variant_id\n",
      "Non-Null Count  Dtype\n",
      "--------------  -----\n",
      "18105 non-null  int64\n",
      "dtypes: int64(1)\n",
      "memory usage: 282.9 KB\n",
      "None\n",
      "/////\n",
      "Total values: 18105\n",
      "Number of null values: 0 is the 0.00% of data\n",
      "Duplicates Values: 16262 is the 89.82% of data\n",
      "Number of types: 1 types: [<class 'int'>]\n",
      "The mean: 35119886149708.234\n",
      "The standard deviation: 2171236598474.3447\n",
      "The min: 33615268282500 The max: 40133621973124 \n",
      "Number of values uniques: 1843\n",
      "Error\n",
      "//3       2020-04-30 15:07:03\n",
      "11      2020-05-05 23:34:35\n",
      "18      2020-04-30 15:07:03\n",
      "46      2020-05-05 23:34:35\n",
      "47      2020-05-06 14:42:11\n",
      "                ...        \n",
      "37644   2022-03-13 16:02:13\n",
      "37717   2022-03-14 07:49:24\n",
      "37718   2022-03-14 07:49:24\n",
      "37719   2022-03-14 07:49:24\n",
      "37720   2022-03-14 07:49:24\n",
      "Name: created_at, Length: 18105, dtype: datetime64[us]//\n",
      "<class 'pandas.core.series.Series'>\n",
      "Index: 18105 entries, 3 to 37720\n",
      "Series name: created_at\n",
      "Non-Null Count  Dtype         \n",
      "--------------  -----         \n",
      "18105 non-null  datetime64[us]\n",
      "dtypes: datetime64[us](1)\n",
      "memory usage: 282.9 KB\n",
      "None\n",
      "/////\n",
      "Total values: 18105\n",
      "Number of null values: 0 is the 0.00% of data\n",
      "Duplicates Values: 16227 is the 89.63% of data\n",
      "Number of types: 1 types: [<class 'pandas._libs.tslibs.timestamps.Timestamp'>]\n",
      "Number of values uniques: 1878\n",
      "Error\n"
     ]
    }
   ],
   "source": [
    "for column in regulars:\n",
    "    get_initial_data_dataframe_column(regulars[column])"
   ]
  },
  {
   "cell_type": "markdown",
   "metadata": {},
   "source": [
    "## Relations"
   ]
  },
  {
   "cell_type": "markdown",
   "metadata": {},
   "source": [
    "### Type of users who abandon more cars"
   ]
  },
  {
   "cell_type": "code",
   "execution_count": 81,
   "metadata": {},
   "outputs": [
    {
     "data": {
      "text/plain": [
       "<Axes: ylabel='n_abandoned_cars_by_users_segment'>"
      ]
     },
     "execution_count": 81,
     "metadata": {},
     "output_type": "execute_result"
    },
    {
     "data": {
      "image/png": "[encoded data removed]",
      "text/plain": [
       "<Figure size 640x480 with 1 Axes>"
      ]
     },
     "metadata": {},
     "output_type": "display_data"
    }
   ],
   "source": [
    "#Usuarios que abandonan compras: Se puede analizar qué segmentos (user_segment) tienen más carritos abandonados.\n",
    "#Users who abandon cars: User segment which have more abandoned carts\n",
    "#Count number of carts abandoned\n",
    "n_abandoned_cars = (\n",
    "abandoned_carts.groupby(\"user_id\")[\"id\"]\n",
    ".nunique()\n",
    ".reset_index()\n",
    ".rename(columns={\"id\":\"n_abandoned_cars\"}))\n",
    "\n",
    "#merge which the users dataframe and user segment\n",
    "n_abandoned_cars_by_users_segment = (\n",
    "users.merge(n_abandoned_cars, on=\"user_id\",how=\"inner\")\n",
    "    .groupby(\"user_segment\")[\"n_abandoned_cars\"]\n",
    "    .sum()\n",
    "    .reset_index()\n",
    "    .rename(columns={\"n_abandoned_cars\":\"n_abandoned_cars_by_users_segment\"})\n",
    ")\n",
    "n_abandoned_cars_by_users_segment.set_index(\"user_segment\")[\"n_abandoned_cars_by_users_segment\"].plot(kind=\"pie\", autopct=\"%1.1f%%\")"
   ]
  },
  {
   "cell_type": "markdown",
   "metadata": {},
   "source": [
    "### Number of regulars of each user segment"
   ]
  },
  {
   "cell_type": "code",
   "execution_count": 86,
   "metadata": {},
   "outputs": [
    {
     "data": {
      "text/plain": [
       "<Axes: xlabel='user_segment'>"
      ]
     },
     "execution_count": 86,
     "metadata": {},
     "output_type": "execute_result"
    },
    {
     "data": {
      "image/png": "[encoded data removed]",
      "text/plain": [
       "<Figure size 640x480 with 1 Axes>"
      ]
     },
     "metadata": {},
     "output_type": "display_data"
    }
   ],
   "source": [
    "#count products regular bu user id\n",
    "n_products_regulars = (\n",
    "\tregulars.groupby(\"user_id\")[\"variant_id\"]\n",
    "    .nunique()\n",
    "    .reset_index()\n",
    "    .rename(columns={\"variant_id\":\"n_products_regulars\"})\n",
    ")\n",
    "\n",
    "#n regulars by user_segment\n",
    "users = users.merge(n_products_regulars, on=\"user_id\",how=\"left\").fillna({\"n_products_regulars\":0})\n",
    "users.groupby(\"user_segment\")[\"n_products_regulars\"].sum().plot(kind=\"bar\")\n"
   ]
  },
  {
   "cell_type": "markdown",
   "metadata": {},
   "source": [
    "### Numbers of products abandoned vs purchased"
   ]
  },
  {
   "cell_type": "code",
   "execution_count": 88,
   "metadata": {},
   "outputs": [],
   "source": [
    "#number products abandoned\n",
    "n_abandoned = (\n",
    "    abandoned_carts[\"variant_id\"]\n",
    "    .explode('variant_id')\n",
    "    .value_counts()\n",
    "    .rename(\"n_abandoned\")\n",
    "    )\n",
    "#number products purchased\n",
    "n_purchased = (\n",
    "    orders[\"ordered_items\"]\n",
    "    .explode(\"ordered_items\")\n",
    "    .value_counts()\n",
    "    .rename(\"n_purchased\")\n",
    ")\n",
    "n_purchased.index = n_purchased.index.rename(\"variant_id\")\n",
    "\n",
    "inventory = inventory.merge(n_abandoned, on=\"variant_id\",how=\"inner\")\n",
    "inventory = inventory.merge(n_purchased, on=\"variant_id\",how=\"inner\")"
   ]
  },
  {
   "cell_type": "code",
   "execution_count": 90,
   "metadata": {},
   "outputs": [
    {
     "data": {
      "text/html": [
       "<div>\n",
       "<style scoped>\n",
       "    .dataframe tbody tr th:only-of-type {\n",
       "        vertical-align: middle;\n",
       "    }\n",
       "\n",
       "    .dataframe tbody tr th {\n",
       "        vertical-align: top;\n",
       "    }\n",
       "\n",
       "    .dataframe thead th {\n",
       "        text-align: right;\n",
       "    }\n",
       "</style>\n",
       "<table border=\"1\" class=\"dataframe\">\n",
       "  <thead>\n",
       "    <tr style=\"text-align: right;\">\n",
       "      <th></th>\n",
       "      <th>product_type</th>\n",
       "      <th>relation_buy_vs_abandoned</th>\n",
       "      <th>price</th>\n",
       "      <th>compare_at_price</th>\n",
       "      <th>vendor</th>\n",
       "    </tr>\n",
       "  </thead>\n",
       "  <tbody>\n",
       "    <tr>\n",
       "      <th>807</th>\n",
       "      <td>tins-packaged-foods</td>\n",
       "      <td>97.826087</td>\n",
       "      <td>1.36</td>\n",
       "      <td>1.59</td>\n",
       "      <td>biona</td>\n",
       "    </tr>\n",
       "    <tr>\n",
       "      <th>385</th>\n",
       "      <td>cleaning-products</td>\n",
       "      <td>97.222222</td>\n",
       "      <td>5.19</td>\n",
       "      <td>5.25</td>\n",
       "      <td>ecoforce</td>\n",
       "    </tr>\n",
       "    <tr>\n",
       "      <th>446</th>\n",
       "      <td>dog-food</td>\n",
       "      <td>96.875000</td>\n",
       "      <td>4.89</td>\n",
       "      <td>4.98</td>\n",
       "      <td>bakers</td>\n",
       "    </tr>\n",
       "    <tr>\n",
       "      <th>852</th>\n",
       "      <td>bath-shower-gel</td>\n",
       "      <td>96.875000</td>\n",
       "      <td>5.79</td>\n",
       "      <td>5.92</td>\n",
       "      <td>faithinnature</td>\n",
       "    </tr>\n",
       "    <tr>\n",
       "      <th>456</th>\n",
       "      <td>haircare</td>\n",
       "      <td>96.774194</td>\n",
       "      <td>7.49</td>\n",
       "      <td>7.50</td>\n",
       "      <td>lovebeautyplanet</td>\n",
       "    </tr>\n",
       "    <tr>\n",
       "      <th>...</th>\n",
       "      <td>...</td>\n",
       "      <td>...</td>\n",
       "      <td>...</td>\n",
       "      <td>...</td>\n",
       "      <td>...</td>\n",
       "    </tr>\n",
       "    <tr>\n",
       "      <th>550</th>\n",
       "      <td>superfoods-supplements</td>\n",
       "      <td>25.000000</td>\n",
       "      <td>23.99</td>\n",
       "      <td>24.00</td>\n",
       "      <td>funktionalfoods</td>\n",
       "    </tr>\n",
       "    <tr>\n",
       "      <th>746</th>\n",
       "      <td>washing-capsules</td>\n",
       "      <td>25.000000</td>\n",
       "      <td>9.99</td>\n",
       "      <td>10.00</td>\n",
       "      <td>persil</td>\n",
       "    </tr>\n",
       "    <tr>\n",
       "      <th>122</th>\n",
       "      <td>home-baking</td>\n",
       "      <td>25.000000</td>\n",
       "      <td>14.99</td>\n",
       "      <td>17.08</td>\n",
       "      <td>various</td>\n",
       "    </tr>\n",
       "    <tr>\n",
       "      <th>868</th>\n",
       "      <td>dental</td>\n",
       "      <td>20.000000</td>\n",
       "      <td>4.99</td>\n",
       "      <td>5.99</td>\n",
       "      <td>brushd</td>\n",
       "    </tr>\n",
       "    <tr>\n",
       "      <th>994</th>\n",
       "      <td>nappies-nappy-pants</td>\n",
       "      <td>20.000000</td>\n",
       "      <td>4.99</td>\n",
       "      <td>5.00</td>\n",
       "      <td>huggies</td>\n",
       "    </tr>\n",
       "  </tbody>\n",
       "</table>\n",
       "<p>1383 rows × 5 columns</p>\n",
       "</div>"
      ],
      "text/plain": [
       "               product_type  relation_buy_vs_abandoned  price  \\\n",
       "807     tins-packaged-foods                  97.826087   1.36   \n",
       "385       cleaning-products                  97.222222   5.19   \n",
       "446                dog-food                  96.875000   4.89   \n",
       "852         bath-shower-gel                  96.875000   5.79   \n",
       "456                haircare                  96.774194   7.49   \n",
       "..                      ...                        ...    ...   \n",
       "550  superfoods-supplements                  25.000000  23.99   \n",
       "746        washing-capsules                  25.000000   9.99   \n",
       "122             home-baking                  25.000000  14.99   \n",
       "868                  dental                  20.000000   4.99   \n",
       "994     nappies-nappy-pants                  20.000000   4.99   \n",
       "\n",
       "     compare_at_price            vendor  \n",
       "807              1.59             biona  \n",
       "385              5.25          ecoforce  \n",
       "446              4.98            bakers  \n",
       "852              5.92     faithinnature  \n",
       "456              7.50  lovebeautyplanet  \n",
       "..                ...               ...  \n",
       "550             24.00   funktionalfoods  \n",
       "746             10.00            persil  \n",
       "122             17.08           various  \n",
       "868              5.99            brushd  \n",
       "994              5.00           huggies  \n",
       "\n",
       "[1383 rows x 5 columns]"
      ]
     },
     "execution_count": 90,
     "metadata": {},
     "output_type": "execute_result"
    }
   ],
   "source": [
    "#relation_buy_vs_abandoned: products almost always are purchased and almost never abandoned\n",
    "inventory[\"relation_buy_vs_abandoned\"] = (inventory[\"n_purchased\"]/(inventory[\"n_purchased\"]+inventory[\"n_abandoned\"]))*100\n",
    "relation_buy_vs_abandoned = inventory.sort_values(by=\"relation_buy_vs_abandoned\",ascending=False)\n",
    "relation_buy_vs_abandoned[[\"product_type\",\"relation_buy_vs_abandoned\",\"price\",\"compare_at_price\",\"vendor\"]]"
   ]
  },
  {
   "cell_type": "markdown",
   "metadata": {},
   "source": [
    "### Numbers of pets, babies or children"
   ]
  },
  {
   "cell_type": "code",
   "execution_count": 121,
   "metadata": {},
   "outputs": [
    {
     "data": {
      "image/png": "[encoded data removed]",
      "text/plain": [
       "<Figure size 640x480 with 1 Axes>"
      ]
     },
     "metadata": {},
     "output_type": "display_data"
    }
   ],
   "source": [
    "#count of each stadistics\n",
    "n_children = users.count_children.value_counts(normalize=True).sort_index() * 100\n",
    "n_pets = users.count_pets.value_counts(normalize=True).sort_index() * 100\n",
    "n_babies = users.count_babies.value_counts(normalize=True).sort_index() * 100\n",
    "\n",
    "n_children_pets_babies = pd.DataFrame({\n",
    "    'children': n_children,\n",
    "    'pets': n_pets,\n",
    "    'babies': n_babies\n",
    "})\n",
    "n_children_pets_babies.plot(kind=\"bar\").grid()"
   ]
  },
  {
   "cell_type": "code",
   "execution_count": 139,
   "metadata": {},
   "outputs": [
    {
     "name": "stdout",
     "output_type": "stream",
     "text": [
      "40.00% of poblation has children\n",
      "40.62% of poblation has pets\n",
      "7.08% of poblation has babies\n"
     ]
    }
   ],
   "source": [
    "for column in n_children_pets_babies:\n",
    "    print(f\"{n_children_pets_babies[column][n_children_pets_babies.index>=1].sum() :.2f}% of poblation has {column}\")"
   ]
  },
  {
   "cell_type": "markdown",
   "metadata": {},
   "source": [
    "#### survey"
   ]
  },
  {
   "cell_type": "code",
   "execution_count": 163,
   "metadata": {},
   "outputs": [],
   "source": [
    "survey = users.merge(orders[[\"order_date\",\"user_id\"]], on=\"user_id\",how=\"left\")"
   ]
  },
  {
   "cell_type": "code",
   "execution_count": 170,
   "metadata": {},
   "outputs": [
    {
     "data": {
      "text/plain": [
       "325"
      ]
     },
     "execution_count": 170,
     "metadata": {},
     "output_type": "execute_result"
    }
   ],
   "source": [
    "survey[[\"user_id\",\"count_children\",\"count_babies\",\"count_pets\",\"order_date\"]].dropna()[\"user_id\"].nunique()"
   ]
  },
  {
   "cell_type": "code",
   "execution_count": 154,
   "metadata": {},
   "outputs": [
    {
     "data": {
      "text/plain": [
       "Timestamp('2022-03-14 00:00:00')"
      ]
     },
     "execution_count": 154,
     "metadata": {},
     "output_type": "execute_result"
    }
   ],
   "source": [
    "orders.order_date.max()"
   ]
  },
  {
   "cell_type": "markdown",
   "metadata": {},
   "source": [
    "## f"
   ]
  },
  {
   "cell_type": "code",
   "execution_count": 13,
   "metadata": {},
   "outputs": [
    {
     "data": {
      "text/plain": [
       "<Axes: xlabel='user_nuts1'>"
      ]
     },
     "execution_count": 13,
     "metadata": {},
     "output_type": "execute_result"
    },
    {
     "data": {
      "image/png": "[encoded data removed]",
      "text/plain": [
       "<Figure size 640x480 with 1 Axes>"
      ]
     },
     "metadata": {},
     "output_type": "display_data"
    }
   ],
   "source": [
    "#11\n",
    "pd.crosstab(users[\"user_nuts1\"], users[\"user_segment\"]).plot(kind=\"bar\")\n",
    "#insights in 12"
   ]
  },
  {
   "cell_type": "code",
   "execution_count": 17,
   "metadata": {},
   "outputs": [
    {
     "data": {
      "text/html": [
       "<div>\n",
       "<style scoped>\n",
       "    .dataframe tbody tr th:only-of-type {\n",
       "        vertical-align: middle;\n",
       "    }\n",
       "\n",
       "    .dataframe tbody tr th {\n",
       "        vertical-align: top;\n",
       "    }\n",
       "\n",
       "    .dataframe thead th {\n",
       "        text-align: right;\n",
       "    }\n",
       "</style>\n",
       "<table border=\"1\" class=\"dataframe\">\n",
       "  <thead>\n",
       "    <tr style=\"text-align: right;\">\n",
       "      <th></th>\n",
       "      <th>user_id</th>\n",
       "      <th>variant_id</th>\n",
       "      <th>created_at</th>\n",
       "      <th>price</th>\n",
       "      <th>compare_at_price</th>\n",
       "      <th>vendor</th>\n",
       "      <th>product_type</th>\n",
       "      <th>tags</th>\n",
       "    </tr>\n",
       "  </thead>\n",
       "  <tbody>\n",
       "    <tr>\n",
       "      <th>0</th>\n",
       "      <td>68e872ff888303bff58ec56a3a986f77ddebdbe5c279e7...</td>\n",
       "      <td>33618848088196</td>\n",
       "      <td>2020-04-30 15:07:03</td>\n",
       "      <td>NaN</td>\n",
       "      <td>NaN</td>\n",
       "      <td>NaN</td>\n",
       "      <td>NaN</td>\n",
       "      <td>NaN</td>\n",
       "    </tr>\n",
       "    <tr>\n",
       "      <th>1</th>\n",
       "      <td>aed88fc0b004270a62ff1fe4b94141f6b1db1496dbb0c0...</td>\n",
       "      <td>33667178659972</td>\n",
       "      <td>2020-05-05 23:34:35</td>\n",
       "      <td>NaN</td>\n",
       "      <td>NaN</td>\n",
       "      <td>NaN</td>\n",
       "      <td>NaN</td>\n",
       "      <td>NaN</td>\n",
       "    </tr>\n",
       "    <tr>\n",
       "      <th>2</th>\n",
       "      <td>68e872ff888303bff58ec56a3a986f77ddebdbe5c279e7...</td>\n",
       "      <td>33619009208452</td>\n",
       "      <td>2020-04-30 15:07:03</td>\n",
       "      <td>NaN</td>\n",
       "      <td>NaN</td>\n",
       "      <td>NaN</td>\n",
       "      <td>NaN</td>\n",
       "      <td>NaN</td>\n",
       "    </tr>\n",
       "    <tr>\n",
       "      <th>3</th>\n",
       "      <td>aed88fc0b004270a62ff1fe4b94141f6b1db1496dbb0c0...</td>\n",
       "      <td>33667305373828</td>\n",
       "      <td>2020-05-05 23:34:35</td>\n",
       "      <td>NaN</td>\n",
       "      <td>NaN</td>\n",
       "      <td>NaN</td>\n",
       "      <td>NaN</td>\n",
       "      <td>NaN</td>\n",
       "    </tr>\n",
       "    <tr>\n",
       "      <th>4</th>\n",
       "      <td>4594e99557113d5a1c5b59bf31b8704aafe5c7bd180b32...</td>\n",
       "      <td>33667247341700</td>\n",
       "      <td>2020-05-06 14:42:11</td>\n",
       "      <td>3.49</td>\n",
       "      <td>3.5</td>\n",
       "      <td>method</td>\n",
       "      <td>cleaning-products</td>\n",
       "      <td>[cruelty-free, eco, vegan, window-glass-cleaner]</td>\n",
       "    </tr>\n",
       "  </tbody>\n",
       "</table>\n",
       "</div>"
      ],
      "text/plain": [
       "                                             user_id      variant_id  \\\n",
       "0  68e872ff888303bff58ec56a3a986f77ddebdbe5c279e7...  33618848088196   \n",
       "1  aed88fc0b004270a62ff1fe4b94141f6b1db1496dbb0c0...  33667178659972   \n",
       "2  68e872ff888303bff58ec56a3a986f77ddebdbe5c279e7...  33619009208452   \n",
       "3  aed88fc0b004270a62ff1fe4b94141f6b1db1496dbb0c0...  33667305373828   \n",
       "4  4594e99557113d5a1c5b59bf31b8704aafe5c7bd180b32...  33667247341700   \n",
       "\n",
       "           created_at  price  compare_at_price  vendor       product_type  \\\n",
       "0 2020-04-30 15:07:03    NaN               NaN     NaN                NaN   \n",
       "1 2020-05-05 23:34:35    NaN               NaN     NaN                NaN   \n",
       "2 2020-04-30 15:07:03    NaN               NaN     NaN                NaN   \n",
       "3 2020-05-05 23:34:35    NaN               NaN     NaN                NaN   \n",
       "4 2020-05-06 14:42:11   3.49               3.5  method  cleaning-products   \n",
       "\n",
       "                                               tags  \n",
       "0                                               NaN  \n",
       "1                                               NaN  \n",
       "2                                               NaN  \n",
       "3                                               NaN  \n",
       "4  [cruelty-free, eco, vegan, window-glass-cleaner]  "
      ]
     },
     "execution_count": 17,
     "metadata": {},
     "output_type": "execute_result"
    }
   ],
   "source": [
    "#13\n",
    "regulars_df = regulars.merge(inventory, on=\"variant_id\",how=\"left\")\n",
    "regulars_df.head()"
   ]
  },
  {
   "cell_type": "code",
   "execution_count": null,
   "metadata": {},
   "outputs": [
    {
     "data": {
      "text/plain": [
       "<Axes: xlabel='created_at'>"
      ]
     },
     "execution_count": 19,
     "metadata": {},
     "output_type": "execute_result"
    },
    {
     "data": {
      "image/png": "[encoded data removed]",
      "text/plain": [
       "<Figure size 640x480 with 1 Axes>"
      ]
     },
     "metadata": {},
     "output_type": "display_data"
    }
   ],
   "source": [
    "#13\n",
    "regulars_df.groupby(regulars_df.created_at.dt.to_period(\"M\"))[\"price\"].apply(lambda x: x.isna().sum() / len(x)).plot(kind=\"bar\")"
   ]
  },
  {
   "cell_type": "code",
   "execution_count": 20,
   "metadata": {},
   "outputs": [
    {
     "data": {
      "text/plain": [
       "(Timestamp('2020-04-30 13:09:27'), Timestamp('2022-03-14 07:49:24'))"
      ]
     },
     "execution_count": 20,
     "metadata": {},
     "output_type": "execute_result"
    }
   ],
   "source": [
    "#14\n",
    "regulars_df.created_at.min(), regulars_df.created_at.max()"
   ]
  },
  {
   "cell_type": "code",
   "execution_count": 21,
   "metadata": {},
   "outputs": [
    {
     "data": {
      "text/plain": [
       "user_id                0\n",
       "variant_id             0\n",
       "created_at             0\n",
       "price               3071\n",
       "compare_at_price    3071\n",
       "vendor              3071\n",
       "product_type        3071\n",
       "tags                3071\n",
       "dtype: int64"
      ]
     },
     "execution_count": 21,
     "metadata": {},
     "output_type": "execute_result"
    }
   ],
   "source": [
    "#14\n",
    "regulars_df.isna().sum()"
   ]
  },
  {
   "cell_type": "code",
   "execution_count": 22,
   "metadata": {},
   "outputs": [
    {
     "data": {
      "text/plain": [
       "<Axes: xlabel='variant_id'>"
      ]
     },
     "execution_count": 22,
     "metadata": {},
     "output_type": "execute_result"
    },
    {
     "data": {
      "image/png": "[encoded data removed]",
      "text/plain": [
       "<Figure size 1500x500 with 1 Axes>"
      ]
     },
     "metadata": {},
     "output_type": "display_data"
    }
   ],
   "source": [
    "#14\n",
    "clean_products_regulars = regulars_df.dropna()\n",
    "clean_products_regulars.groupby([\"variant_id\"])[\"user_id\"].nunique().sort_values(\n",
    "    ascending= False\n",
    "    ).head(50).plot(kind=\"bar\",figsize=(15,5))"
   ]
  },
  {
   "cell_type": "code",
   "execution_count": 27,
   "metadata": {},
   "outputs": [
    {
     "data": {
      "text/html": [
       "<div>\n",
       "<style scoped>\n",
       "    .dataframe tbody tr th:only-of-type {\n",
       "        vertical-align: middle;\n",
       "    }\n",
       "\n",
       "    .dataframe tbody tr th {\n",
       "        vertical-align: top;\n",
       "    }\n",
       "\n",
       "    .dataframe thead th {\n",
       "        text-align: right;\n",
       "    }\n",
       "</style>\n",
       "<table border=\"1\" class=\"dataframe\">\n",
       "  <thead>\n",
       "    <tr style=\"text-align: right;\">\n",
       "      <th></th>\n",
       "      <th>variant_id</th>\n",
       "      <th>price</th>\n",
       "      <th>product_type</th>\n",
       "      <th>vendor</th>\n",
       "    </tr>\n",
       "  </thead>\n",
       "  <tbody>\n",
       "    <tr>\n",
       "      <th>95</th>\n",
       "      <td>34081589887108</td>\n",
       "      <td>10.79</td>\n",
       "      <td>long-life-milk-substitutes</td>\n",
       "      <td>oatly</td>\n",
       "    </tr>\n",
       "  </tbody>\n",
       "</table>\n",
       "</div>"
      ],
      "text/plain": [
       "        variant_id  price                product_type vendor\n",
       "95  34081589887108  10.79  long-life-milk-substitutes  oatly"
      ]
     },
     "execution_count": 27,
     "metadata": {},
     "output_type": "execute_result"
    }
   ],
   "source": [
    "#16\n",
    "top_product = (\n",
    "clean_products_regulars.groupby([\"variant_id\"])[\"user_id\"]\n",
    ".nunique()\n",
    ".sort_values(ascending=False)\n",
    ".head(1)\n",
    ".index[0]\n",
    ")\n",
    "clean_products_regulars.loc[lambda x: x.variant_id == top_product][\n",
    "[\"variant_id\", \"price\", \"product_type\", \"vendor\"]\n",
    "].drop_duplicates()"
   ]
  },
  {
   "cell_type": "code",
   "execution_count": null,
   "metadata": {},
   "outputs": [],
   "source": [
    "#17 primera no hize, no voy a usar seaborn"
   ]
  },
  {
   "cell_type": "code",
   "execution_count": null,
   "metadata": {},
   "outputs": [
    {
     "data": {
      "text/plain": [
       "Text(0.5, 1.0, 'top 50 vendors by number of regulars (out of 367)')"
      ]
     },
     "execution_count": 31,
     "metadata": {},
     "output_type": "execute_result"
    },
    {
     "data": {
      "image/png": "[encoded data removed]",
      "text/plain": [
       "<Figure size 1500x500 with 1 Axes>"
      ]
     },
     "metadata": {},
     "output_type": "display_data"
    }
   ],
   "source": [
    "#17\n",
    "clean_products_regulars[\"vendor\"].value_counts().head(50).plot(kind=\"bar\",figsize=(15,5))\n",
    "plt.title(f\"top 50 vendors by number of regulars (out of {clean_products_regulars.vendor.nunique()})\")"
   ]
  },
  {
   "cell_type": "code",
   "execution_count": 33,
   "metadata": {},
   "outputs": [
    {
     "data": {
      "text/plain": [
       "Text(0.5, 1.0, 'top 30 product_type by number of products (out of 59 product_types)')"
      ]
     },
     "execution_count": 33,
     "metadata": {},
     "output_type": "execute_result"
    },
    {
     "data": {
      "image/png": "[encoded data removed]",
      "text/plain": [
       "<Figure size 1500x500 with 1 Axes>"
      ]
     },
     "metadata": {},
     "output_type": "display_data"
    }
   ],
   "source": [
    "#19\n",
    "inventory[\"product_type\"].value_counts().head(30).plot(kind=\"bar\", figsize=(15,5))\n",
    "plt.title(f\"top 30 product_type by number of products (out of {inventory.product_type.nunique()} product_types)\")"
   ]
  },
  {
   "cell_type": "code",
   "execution_count": 36,
   "metadata": {},
   "outputs": [
    {
     "data": {
      "text/html": [
       "<div>\n",
       "<style scoped>\n",
       "    .dataframe tbody tr th:only-of-type {\n",
       "        vertical-align: middle;\n",
       "    }\n",
       "\n",
       "    .dataframe tbody tr th {\n",
       "        vertical-align: top;\n",
       "    }\n",
       "\n",
       "    .dataframe thead th {\n",
       "        text-align: right;\n",
       "    }\n",
       "</style>\n",
       "<table border=\"1\" class=\"dataframe\">\n",
       "  <thead>\n",
       "    <tr style=\"text-align: right;\">\n",
       "      <th></th>\n",
       "      <th>product_type</th>\n",
       "      <th>inventory_count</th>\n",
       "      <th>regulars_count</th>\n",
       "      <th>inventory_rank</th>\n",
       "      <th>regulars_rank</th>\n",
       "      <th>diff</th>\n",
       "    </tr>\n",
       "  </thead>\n",
       "  <tbody>\n",
       "    <tr>\n",
       "      <th>0</th>\n",
       "      <td>cleaning-products</td>\n",
       "      <td>0.092325</td>\n",
       "      <td>0.124850</td>\n",
       "      <td>1.0</td>\n",
       "      <td>1.0</td>\n",
       "      <td>-0.032525</td>\n",
       "    </tr>\n",
       "    <tr>\n",
       "      <th>1</th>\n",
       "      <td>tins-packaged-foods</td>\n",
       "      <td>0.072129</td>\n",
       "      <td>0.093255</td>\n",
       "      <td>2.0</td>\n",
       "      <td>2.0</td>\n",
       "      <td>-0.021126</td>\n",
       "    </tr>\n",
       "    <tr>\n",
       "      <th>21</th>\n",
       "      <td>dishwashing</td>\n",
       "      <td>0.015580</td>\n",
       "      <td>0.055474</td>\n",
       "      <td>22.0</td>\n",
       "      <td>3.0</td>\n",
       "      <td>-0.039894</td>\n",
       "    </tr>\n",
       "    <tr>\n",
       "      <th>31</th>\n",
       "      <td>toilet-roll-kitchen-roll-tissue</td>\n",
       "      <td>0.010387</td>\n",
       "      <td>0.053346</td>\n",
       "      <td>32.5</td>\n",
       "      <td>4.0</td>\n",
       "      <td>-0.042959</td>\n",
       "    </tr>\n",
       "    <tr>\n",
       "      <th>3</th>\n",
       "      <td>cooking-ingredients</td>\n",
       "      <td>0.042123</td>\n",
       "      <td>0.052148</td>\n",
       "      <td>4.0</td>\n",
       "      <td>5.0</td>\n",
       "      <td>-0.010025</td>\n",
       "    </tr>\n",
       "    <tr>\n",
       "      <th>2</th>\n",
       "      <td>snacks-confectionery</td>\n",
       "      <td>0.070398</td>\n",
       "      <td>0.043900</td>\n",
       "      <td>3.0</td>\n",
       "      <td>6.0</td>\n",
       "      <td>0.026498</td>\n",
       "    </tr>\n",
       "    <tr>\n",
       "      <th>25</th>\n",
       "      <td>long-life-milk-substitutes</td>\n",
       "      <td>0.013849</td>\n",
       "      <td>0.037648</td>\n",
       "      <td>25.5</td>\n",
       "      <td>7.0</td>\n",
       "      <td>-0.023799</td>\n",
       "    </tr>\n",
       "    <tr>\n",
       "      <th>6</th>\n",
       "      <td>condiments-dressings</td>\n",
       "      <td>0.030006</td>\n",
       "      <td>0.034655</td>\n",
       "      <td>7.0</td>\n",
       "      <td>8.0</td>\n",
       "      <td>-0.004649</td>\n",
       "    </tr>\n",
       "    <tr>\n",
       "      <th>10</th>\n",
       "      <td>soft-drinks-mixers</td>\n",
       "      <td>0.027698</td>\n",
       "      <td>0.032061</td>\n",
       "      <td>11.0</td>\n",
       "      <td>9.0</td>\n",
       "      <td>-0.004363</td>\n",
       "    </tr>\n",
       "    <tr>\n",
       "      <th>7</th>\n",
       "      <td>cereal</td>\n",
       "      <td>0.029429</td>\n",
       "      <td>0.031329</td>\n",
       "      <td>8.0</td>\n",
       "      <td>10.0</td>\n",
       "      <td>-0.001900</td>\n",
       "    </tr>\n",
       "  </tbody>\n",
       "</table>\n",
       "</div>"
      ],
      "text/plain": [
       "                       product_type  inventory_count  regulars_count  \\\n",
       "0                 cleaning-products         0.092325        0.124850   \n",
       "1               tins-packaged-foods         0.072129        0.093255   \n",
       "21                      dishwashing         0.015580        0.055474   \n",
       "31  toilet-roll-kitchen-roll-tissue         0.010387        0.053346   \n",
       "3               cooking-ingredients         0.042123        0.052148   \n",
       "2              snacks-confectionery         0.070398        0.043900   \n",
       "25       long-life-milk-substitutes         0.013849        0.037648   \n",
       "6              condiments-dressings         0.030006        0.034655   \n",
       "10               soft-drinks-mixers         0.027698        0.032061   \n",
       "7                            cereal         0.029429        0.031329   \n",
       "\n",
       "    inventory_rank  regulars_rank      diff  \n",
       "0              1.0            1.0 -0.032525  \n",
       "1              2.0            2.0 -0.021126  \n",
       "21            22.0            3.0 -0.039894  \n",
       "31            32.5            4.0 -0.042959  \n",
       "3              4.0            5.0 -0.010025  \n",
       "2              3.0            6.0  0.026498  \n",
       "25            25.5            7.0 -0.023799  \n",
       "6              7.0            8.0 -0.004649  \n",
       "10            11.0            9.0 -0.004363  \n",
       "7              8.0           10.0 -0.001900  "
      ]
     },
     "execution_count": 36,
     "metadata": {},
     "output_type": "execute_result"
    }
   ],
   "source": [
    "#20\n",
    "diff_prevalence = (\n",
    "    inventory[\"product_type\"]\n",
    "    .value_counts(normalize=True)\n",
    "    .rename(\"inventory_count\")\n",
    "    .reset_index()\n",
    "    .merge(\n",
    "        clean_products_regulars[\"product_type\"]\n",
    "        .value_counts(normalize=True)\n",
    "        .rename(\"regulars_count\")\n",
    "        .reset_index()\n",
    "    )\n",
    "    .assign(inventory_rank=lambda x:x.inventory_count.rank(ascending=False))\n",
    "    .assign(regulars_rank=lambda x: x.regulars_count.rank(ascending=False))\n",
    "    .assign(diff=lambda x: x.inventory_count - x.regulars_count)\n",
    ")\n",
    "#21\n",
    "#insights en la 21\n",
    "diff_prevalence.sort_values(\"regulars_count\",ascending=False).head(10)\n"
   ]
  },
  {
   "cell_type": "code",
   "execution_count": 39,
   "metadata": {},
   "outputs": [
    {
     "data": {
      "text/plain": [
       "(Timestamp('2020-04-30 00:00:00'), Timestamp('2022-03-14 00:00:00'), 4983)"
      ]
     },
     "execution_count": 39,
     "metadata": {},
     "output_type": "execute_result"
    }
   ],
   "source": [
    "#22\n",
    "orders.order_date.min(), orders.order_date.max(), orders.user_id.nunique()"
   ]
  },
  {
   "cell_type": "code",
   "execution_count": 40,
   "metadata": {},
   "outputs": [
    {
     "data": {
      "text/plain": [
       "1411"
      ]
     },
     "execution_count": 40,
     "metadata": {},
     "output_type": "execute_result"
    }
   ],
   "source": [
    "#22\n",
    "orders.loc[lambda x: x.user_order_seq>1].user_id.nunique()"
   ]
  },
  {
   "cell_type": "code",
   "execution_count": 42,
   "metadata": {},
   "outputs": [
    {
     "data": {
      "text/plain": [
       "<Axes: xlabel='user_order_seq'>"
      ]
     },
     "execution_count": 42,
     "metadata": {},
     "output_type": "execute_result"
    },
    {
     "data": {
      "image/png": "[encoded data removed]",
      "text/plain": [
       "<Figure size 640x480 with 1 Axes>"
      ]
     },
     "metadata": {},
     "output_type": "display_data"
    }
   ],
   "source": [
    "#22\n",
    "orders[\"user_order_seq\"].value_counts(normalize=True).plot(kind=\"bar\")"
   ]
  },
  {
   "cell_type": "code",
   "execution_count": 54,
   "metadata": {},
   "outputs": [
    {
     "data": {
      "text/html": [
       "<div>\n",
       "<style scoped>\n",
       "    .dataframe tbody tr th:only-of-type {\n",
       "        vertical-align: middle;\n",
       "    }\n",
       "\n",
       "    .dataframe tbody tr th {\n",
       "        vertical-align: top;\n",
       "    }\n",
       "\n",
       "    .dataframe thead th {\n",
       "        text-align: right;\n",
       "    }\n",
       "</style>\n",
       "<table border=\"1\" class=\"dataframe\">\n",
       "  <thead>\n",
       "    <tr style=\"text-align: right;\">\n",
       "      <th></th>\n",
       "      <th>id</th>\n",
       "      <th>user_id</th>\n",
       "      <th>created_at</th>\n",
       "      <th>order_date</th>\n",
       "      <th>user_order_seq</th>\n",
       "      <th>variant_id</th>\n",
       "    </tr>\n",
       "  </thead>\n",
       "  <tbody>\n",
       "    <tr>\n",
       "      <th>10</th>\n",
       "      <td>2204073066628</td>\n",
       "      <td>62e271062eb827e411bd73941178d29b022f5f2de9d37f...</td>\n",
       "      <td>2020-04-30 14:32:19</td>\n",
       "      <td>2020-04-30</td>\n",
       "      <td>1</td>\n",
       "      <td>33618849693828</td>\n",
       "    </tr>\n",
       "    <tr>\n",
       "      <th>10</th>\n",
       "      <td>2204073066628</td>\n",
       "      <td>62e271062eb827e411bd73941178d29b022f5f2de9d37f...</td>\n",
       "      <td>2020-04-30 14:32:19</td>\n",
       "      <td>2020-04-30</td>\n",
       "      <td>1</td>\n",
       "      <td>33618860179588</td>\n",
       "    </tr>\n",
       "    <tr>\n",
       "      <th>10</th>\n",
       "      <td>2204073066628</td>\n",
       "      <td>62e271062eb827e411bd73941178d29b022f5f2de9d37f...</td>\n",
       "      <td>2020-04-30 14:32:19</td>\n",
       "      <td>2020-04-30</td>\n",
       "      <td>1</td>\n",
       "      <td>33618874040452</td>\n",
       "    </tr>\n",
       "    <tr>\n",
       "      <th>10</th>\n",
       "      <td>2204073066628</td>\n",
       "      <td>62e271062eb827e411bd73941178d29b022f5f2de9d37f...</td>\n",
       "      <td>2020-04-30 14:32:19</td>\n",
       "      <td>2020-04-30</td>\n",
       "      <td>1</td>\n",
       "      <td>33618907005060</td>\n",
       "    </tr>\n",
       "    <tr>\n",
       "      <th>10</th>\n",
       "      <td>2204073066628</td>\n",
       "      <td>62e271062eb827e411bd73941178d29b022f5f2de9d37f...</td>\n",
       "      <td>2020-04-30 14:32:19</td>\n",
       "      <td>2020-04-30</td>\n",
       "      <td>1</td>\n",
       "      <td>33618907005060</td>\n",
       "    </tr>\n",
       "  </tbody>\n",
       "</table>\n",
       "</div>"
      ],
      "text/plain": [
       "               id                                            user_id  \\\n",
       "10  2204073066628  62e271062eb827e411bd73941178d29b022f5f2de9d37f...   \n",
       "10  2204073066628  62e271062eb827e411bd73941178d29b022f5f2de9d37f...   \n",
       "10  2204073066628  62e271062eb827e411bd73941178d29b022f5f2de9d37f...   \n",
       "10  2204073066628  62e271062eb827e411bd73941178d29b022f5f2de9d37f...   \n",
       "10  2204073066628  62e271062eb827e411bd73941178d29b022f5f2de9d37f...   \n",
       "\n",
       "            created_at order_date  user_order_seq      variant_id  \n",
       "10 2020-04-30 14:32:19 2020-04-30               1  33618849693828  \n",
       "10 2020-04-30 14:32:19 2020-04-30               1  33618860179588  \n",
       "10 2020-04-30 14:32:19 2020-04-30               1  33618874040452  \n",
       "10 2020-04-30 14:32:19 2020-04-30               1  33618907005060  \n",
       "10 2020-04-30 14:32:19 2020-04-30               1  33618907005060  "
      ]
     },
     "execution_count": 54,
     "metadata": {},
     "output_type": "execute_result"
    }
   ],
   "source": [
    "#23\n",
    "order_items = orders.explode(\"ordered_items\").rename({\"ordered_items\":\"variant_id\"},axis=1)\n",
    "order_items.head()"
   ]
  },
  {
   "cell_type": "code",
   "execution_count": 55,
   "metadata": {},
   "outputs": [
    {
     "name": "stdout",
     "output_type": "stream",
     "text": [
      "pct of missing bpught products on inventory: 14.45%\n"
     ]
    }
   ],
   "source": [
    "#24\n",
    "order_items = order_items.merge(inventory, on=\"variant_id\",how=\"left\")\n",
    "print(f\"pct of missing bpught products on inventory: {100 * order_items.price.isna().sum() / order_items.shape[0]:.2f}%\")\n",
    "#LLegue hasta la imagen 24, las demas no las copie"
   ]
  }
 ],
 "metadata": {
  "kernelspec": {
   "display_name": "zrive-ds-MN08EHLs-py3.11",
   "language": "python",
   "name": "python3"
  },
  "language_info": {
   "codemirror_mode": {
    "name": "ipython",
    "version": 3
   },
   "file_extension": ".py",
   "mimetype": "text/x-python",
   "name": "python",
   "nbconvert_exporter": "python",
   "pygments_lexer": "ipython3",
   "version": "3.11.0"
  },
  "orig_nbformat": 4
 },
 "nbformat": 4,
 "nbformat_minor": 2
}
